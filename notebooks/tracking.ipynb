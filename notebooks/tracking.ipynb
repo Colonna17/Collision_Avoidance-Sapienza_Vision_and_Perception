{
  "cells": [
    {
      "cell_type": "code",
      "execution_count": 7,
      "metadata": {},
      "outputs": [
        {
          "name": "stdout",
          "output_type": "stream",
          "text": [
            "/home/silverio/Projects/Uni/Vision/Collision_Avoidance-Sapienza_Vision_and_Perception\n",
            "amazingTest.py\texternal   README.md\t     setup.sh  yolov5n.pt\n",
            "data\t\tnotebooks  requirements.txt  weights\n",
            "Sat Oct  1 00:07:33 2022       \n",
            "+-----------------------------------------------------------------------------+\n",
            "| NVIDIA-SMI 510.85.02    Driver Version: 510.85.02    CUDA Version: 11.6     |\n",
            "|-------------------------------+----------------------+----------------------+\n",
            "| GPU  Name        Persistence-M| Bus-Id        Disp.A | Volatile Uncorr. ECC |\n",
            "| Fan  Temp  Perf  Pwr:Usage/Cap|         Memory-Usage | GPU-Util  Compute M. |\n",
            "|                               |                      |               MIG M. |\n",
            "|===============================+======================+======================|\n",
            "|   0  NVIDIA GeForce ...  Off  | 00000000:01:00.0 Off |                  N/A |\n",
            "| N/A   40C    P8    N/A /  N/A |      6MiB /  2048MiB |      0%      Default |\n",
            "|                               |                      |                  N/A |\n",
            "+-------------------------------+----------------------+----------------------+\n",
            "                                                                               \n",
            "+-----------------------------------------------------------------------------+\n",
            "| Processes:                                                                  |\n",
            "|  GPU   GI   CI        PID   Type   Process name                  GPU Memory |\n",
            "|        ID   ID                                                   Usage      |\n",
            "|=============================================================================|\n",
            "|    0   N/A  N/A      5596      G   /usr/lib/xorg/Xorg                  4MiB |\n",
            "|    0   N/A  N/A      6060      G   ...ome-remote-desktop-daemon        0MiB |\n",
            "+-----------------------------------------------------------------------------+\n"
          ]
        }
      ],
      "source": [
        "!pwd\n",
        "!ls\n",
        "!nvidia-smi"
      ]
    },
    {
      "cell_type": "code",
      "execution_count": null,
      "metadata": {
        "colab": {
          "base_uri": "https://localhost:8080/"
        },
        "id": "D66scGKJKQce",
        "outputId": "653f757b-bcc4-4fdd-eca9-852ee76c82f8"
      },
      "outputs": [],
      "source": [
        "# Only for Colab or similar\n",
        "!git clone --recurse-submodules https://github.com/Colonna17/Collision_Avoidance-Sapienza_Vision_and_Perception.git\n",
        "%cd Collision_Avoidance-Sapienza_Vision_and_Perception"
      ]
    },
    {
      "cell_type": "code",
      "execution_count": null,
      "metadata": {},
      "outputs": [],
      "source": [
        "!./setup.sh"
      ]
    },
    {
      "cell_type": "code",
      "execution_count": 8,
      "metadata": {},
      "outputs": [
        {
          "name": "stdout",
          "output_type": "stream",
          "text": [
            "/home/silverio/Projects/Uni/Vision/Collision_Avoidance-Sapienza_Vision_and_Perception/external/Yolov5_StrongSORT_OSNet\n",
            "/home/silverio/Projects/Uni/Vision/Collision_Avoidance-Sapienza_Vision_and_Perception/external/Yolov5_StrongSORT_OSNet\n"
          ]
        }
      ],
      "source": [
        "%cd external/Yolov5_StrongSORT_OSNet"
      ]
    },
    {
      "cell_type": "markdown",
      "metadata": {},
      "source": [
        "# Tracking example"
      ]
    },
    {
      "cell_type": "code",
      "execution_count": 10,
      "metadata": {},
      "outputs": [
        {
          "name": "stdout",
          "output_type": "stream",
          "text": [
            "Traceback (most recent call last):\n",
            "  File \"/home/silverio/Projects/Uni/Vision/Collision_Avoidance-Sapienza_Vision_and_Perception/external/Yolov5_StrongSORT_OSNet/track.py\", line 30, in <module>\n",
            "    from yolov5.models.common import DetectMultiBackend\n",
            "ModuleNotFoundError: No module named 'yolov5.models'\n"
          ]
        }
      ],
      "source": [
        "!python3 track.py --source 0"
      ]
    },
    {
      "cell_type": "code",
      "execution_count": 13,
      "metadata": {
        "colab": {
          "base_uri": "https://localhost:8080/"
        },
        "id": "2k1plbg1LFAM",
        "outputId": "c7d39690-59a5-4925-e063-82a6bc7f6d9e"
      },
      "outputs": [
        {
          "name": "stdout",
          "output_type": "stream",
          "text": [
            "strong_sort/deep/reid/torchreid/metrics/rank.py:12: UserWarning: Cython evaluation (very fast so highly recommended) is unavailable, now use python evaluation.\n",
            "  'Cython evaluation (very fast so highly recommended) is '\n",
            "100% 40.8M/40.8M [00:02<00:00, 17.7MB/s]\n",
            "WARNING: Environment does not support cv2.imshow() or PIL Image.show() image displays\n",
            "cv2.imshow() is disabled in Docker environments\n",
            "Downloading...\n",
            "From: https://drive.google.com/uc?id=1Kkx2zW89jq_NETu4u42CFZTMVD5Hwm6e\n",
            "To: /content/Collision_Avoidance-Sapienza_Vision_and_Perception/external/Yolov5_DeepSort_Pytorch/weights/osnet_x0_25_msmt17.pt\n",
            "100% 9.34M/9.34M [00:00<00:00, 92.5MB/s]\n",
            "Successfully loaded pretrained weights from \"/content/Collision_Avoidance-Sapienza_Vision_and_Perception/external/Yolov5_DeepSort_Pytorch/weights/osnet_x0_25_msmt17.pt\"\n",
            "** The following layers are discarded due to unmatched keys or layer size: ['classifier.weight', 'classifier.bias']\n",
            "WARNING: Video stream unresponsive, please check your IP camera connection.\n"
          ]
        }
      ],
      "source": [
        "!python track.py --source 'https://www.youtube.com/watch?v=KBsqQez-O4w' --img 416"
      ]
    },
    {
      "cell_type": "code",
      "execution_count": 16,
      "metadata": {
        "id": "NXyOd7OhMEkY"
      },
      "outputs": [],
      "source": [
        "!ls runs/track/exp"
      ]
    },
    {
      "cell_type": "code",
      "execution_count": null,
      "metadata": {
        "id": "bYBfsSIIQFeW"
      },
      "outputs": [],
      "source": []
    }
  ],
  "metadata": {
    "accelerator": "GPU",
    "colab": {
      "authorship_tag": "ABX9TyPe9u4MnHNnvm0msQERN07X",
      "provenance": []
    },
    "kernelspec": {
      "display_name": "Python 3.10.4 64-bit",
      "language": "python",
      "name": "python3"
    },
    "language_info": {
      "codemirror_mode": {
        "name": "ipython",
        "version": 3
      },
      "file_extension": ".py",
      "mimetype": "text/x-python",
      "name": "python",
      "nbconvert_exporter": "python",
      "pygments_lexer": "ipython3",
      "version": "3.10.4"
    },
    "vscode": {
      "interpreter": {
        "hash": "916dbcbb3f70747c44a77c7bcd40155683ae19c65e1c03b4aa3499c5328201f1"
      }
    }
  },
  "nbformat": 4,
  "nbformat_minor": 0
}
