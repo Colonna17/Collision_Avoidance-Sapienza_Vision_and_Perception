{
  "cells": [
    {
      "cell_type": "code",
      "execution_count": 1,
      "metadata": {
        "id": "bQVNG6nlsOwe"
      },
      "outputs": [],
      "source": [
        "%reload_ext autoreload\n",
        "%autoreload 2\n",
        "\n",
        "setup_already_done = False"
      ]
    },
    {
      "cell_type": "code",
      "execution_count": 2,
      "metadata": {
        "id": "mz2jF3lvsOwh"
      },
      "outputs": [],
      "source": [
        "import sys\n",
        "import os"
      ]
    },
    {
      "cell_type": "code",
      "execution_count": 3,
      "metadata": {
        "colab": {
          "base_uri": "https://localhost:8080/"
        },
        "id": "C0_YJBY1sOwi",
        "outputId": "e8b09659-169d-4a1d-a8b1-7c219b106102"
      },
      "outputs": [
        {
          "output_type": "execute_result",
          "data": {
            "text/plain": [
              "True"
            ]
          },
          "metadata": {},
          "execution_count": 3
        }
      ],
      "source": [
        "IN_COLAB = 'google.colab' in sys.modules\n",
        "IN_COLAB"
      ]
    },
    {
      "cell_type": "code",
      "execution_count": 4,
      "metadata": {
        "colab": {
          "base_uri": "https://localhost:8080/"
        },
        "id": "pz_D16MUyveG",
        "outputId": "5345c54f-5478-40de-e81a-1266ea46c38e"
      },
      "outputs": [
        {
          "output_type": "stream",
          "name": "stdout",
          "text": [
            "/content/VideoPrediction_MovingMNIST\n"
          ]
        }
      ],
      "source": [
        "%cd VideoPrediction_MovingMNIST/"
      ]
    },
    {
      "cell_type": "code",
      "execution_count": 5,
      "metadata": {
        "colab": {
          "base_uri": "https://localhost:8080/"
        },
        "id": "DwlaqmjrMHzJ",
        "outputId": "1d453d00-7590-4e9d-cc95-5c1f3f628342"
      },
      "outputs": [
        {
          "output_type": "stream",
          "name": "stdout",
          "text": [
            "Cloning into 'VideoPrediction_MovingMNIST'...\n",
            "remote: Enumerating objects: 135, done.\u001b[K\n",
            "remote: Counting objects:   0% (1/135)\u001b[K\rremote: Counting objects:   1% (2/135)\u001b[K\rremote: Counting objects:   2% (3/135)\u001b[K\rremote: Counting objects:   3% (5/135)\u001b[K\rremote: Counting objects:   4% (6/135)\u001b[K\rremote: Counting objects:   5% (7/135)\u001b[K\rremote: Counting objects:   6% (9/135)\u001b[K\rremote: Counting objects:   7% (10/135)\u001b[K\rremote: Counting objects:   8% (11/135)\u001b[K\rremote: Counting objects:   9% (13/135)\u001b[K\rremote: Counting objects:  10% (14/135)\u001b[K\rremote: Counting objects:  11% (15/135)\u001b[K\rremote: Counting objects:  12% (17/135)\u001b[K\rremote: Counting objects:  13% (18/135)\u001b[K\rremote: Counting objects:  14% (19/135)\u001b[K\rremote: Counting objects:  15% (21/135)\u001b[K\rremote: Counting objects:  16% (22/135)\u001b[K\rremote: Counting objects:  17% (23/135)\u001b[K\rremote: Counting objects:  18% (25/135)\u001b[K\rremote: Counting objects:  19% (26/135)\u001b[K\rremote: Counting objects:  20% (27/135)\u001b[K\rremote: Counting objects:  21% (29/135)\u001b[K\rremote: Counting objects:  22% (30/135)\u001b[K\rremote: Counting objects:  23% (32/135)\u001b[K\rremote: Counting objects:  24% (33/135)\u001b[K\rremote: Counting objects:  25% (34/135)\u001b[K\rremote: Counting objects:  26% (36/135)\u001b[K\rremote: Counting objects:  27% (37/135)\u001b[K\rremote: Counting objects:  28% (38/135)\u001b[K\rremote: Counting objects:  29% (40/135)\u001b[K\rremote: Counting objects:  30% (41/135)\u001b[K\rremote: Counting objects:  31% (42/135)\u001b[K\rremote: Counting objects:  32% (44/135)\u001b[K\rremote: Counting objects:  33% (45/135)\u001b[K\rremote: Counting objects:  34% (46/135)\u001b[K\rremote: Counting objects:  35% (48/135)\u001b[K\rremote: Counting objects:  36% (49/135)\u001b[K\rremote: Counting objects:  37% (50/135)\u001b[K\rremote: Counting objects:  38% (52/135)\u001b[K\rremote: Counting objects:  39% (53/135)\u001b[K\rremote: Counting objects:  40% (54/135)\u001b[K\rremote: Counting objects:  41% (56/135)\u001b[K\rremote: Counting objects:  42% (57/135)\u001b[K\rremote: Counting objects:  43% (59/135)\u001b[K\rremote: Counting objects:  44% (60/135)\u001b[K\rremote: Counting objects:  45% (61/135)\u001b[K\rremote: Counting objects:  46% (63/135)\u001b[K\rremote: Counting objects:  47% (64/135)\u001b[K\rremote: Counting objects:  48% (65/135)\u001b[K\rremote: Counting objects:  49% (67/135)\u001b[K\rremote: Counting objects:  50% (68/135)\u001b[K\rremote: Counting objects:  51% (69/135)\u001b[K\rremote: Counting objects:  52% (71/135)\u001b[K\rremote: Counting objects:  53% (72/135)\u001b[K\rremote: Counting objects:  54% (73/135)\u001b[K\rremote: Counting objects:  55% (75/135)\u001b[K\rremote: Counting objects:  56% (76/135)\u001b[K\rremote: Counting objects:  57% (77/135)\u001b[K\rremote: Counting objects:  58% (79/135)\u001b[K\rremote: Counting objects:  59% (80/135)\u001b[K\rremote: Counting objects:  60% (81/135)\u001b[K\rremote: Counting objects:  61% (83/135)\u001b[K\rremote: Counting objects:  62% (84/135)\u001b[K\rremote: Counting objects:  63% (86/135)\u001b[K\rremote: Counting objects:  64% (87/135)\u001b[K\rremote: Counting objects:  65% (88/135)\u001b[K\rremote: Counting objects:  66% (90/135)\u001b[K\rremote: Counting objects:  67% (91/135)\u001b[K\rremote: Counting objects:  68% (92/135)\u001b[K\rremote: Counting objects:  69% (94/135)\u001b[K\rremote: Counting objects:  70% (95/135)\u001b[K\rremote: Counting objects:  71% (96/135)\u001b[K\rremote: Counting objects:  72% (98/135)\u001b[K\rremote: Counting objects:  73% (99/135)\u001b[K\rremote: Counting objects:  74% (100/135)\u001b[K\rremote: Counting objects:  75% (102/135)\u001b[K\rremote: Counting objects:  76% (103/135)\u001b[K\rremote: Counting objects:  77% (104/135)\u001b[K\rremote: Counting objects:  78% (106/135)\u001b[K\rremote: Counting objects:  79% (107/135)\u001b[K\rremote: Counting objects:  80% (108/135)\u001b[K\rremote: Counting objects:  81% (110/135)\u001b[K\rremote: Counting objects:  82% (111/135)\u001b[K\rremote: Counting objects:  83% (113/135)\u001b[K\rremote: Counting objects:  84% (114/135)\u001b[K\rremote: Counting objects:  85% (115/135)\u001b[K\rremote: Counting objects:  86% (117/135)\u001b[K\rremote: Counting objects:  87% (118/135)\u001b[K\rremote: Counting objects:  88% (119/135)\u001b[K\rremote: Counting objects:  89% (121/135)\u001b[K\rremote: Counting objects:  90% (122/135)\u001b[K\rremote: Counting objects:  91% (123/135)\u001b[K\rremote: Counting objects:  92% (125/135)\u001b[K\rremote: Counting objects:  93% (126/135)\u001b[K\rremote: Counting objects:  94% (127/135)\u001b[K\rremote: Counting objects:  95% (129/135)\u001b[K\rremote: Counting objects:  96% (130/135)\u001b[K\rremote: Counting objects:  97% (131/135)\u001b[K\rremote: Counting objects:  98% (133/135)\u001b[K\rremote: Counting objects:  99% (134/135)\u001b[K\rremote: Counting objects: 100% (135/135)\u001b[K\rremote: Counting objects: 100% (135/135), done.\u001b[K\n",
            "remote: Compressing objects: 100% (87/87), done.\u001b[K\n",
            "remote: Total 135 (delta 72), reused 95 (delta 40), pack-reused 0\u001b[K\n",
            "Receiving objects: 100% (135/135), 75.60 KiB | 4.72 MiB/s, done.\n",
            "Resolving deltas: 100% (72/72), done.\n",
            "/content/VideoPrediction_MovingMNIST/VideoPrediction_MovingMNIST\n",
            "/content/VideoPrediction_MovingMNIST/VideoPrediction_MovingMNIST/data\n",
            "/content/VideoPrediction_MovingMNIST/VideoPrediction_MovingMNIST\n"
          ]
        }
      ],
      "source": [
        "if not setup_already_done:\n",
        "    if(IN_COLAB):\n",
        "        !git clone https://github.com/Silver0x10/VideoPrediction_MovingMNIST.git\n",
        "        %cd VideoPrediction_MovingMNIST\n",
        "    else:\n",
        "        %cd ..\n",
        "    if(not os.path.exists(\"data/mnist_test_seq.npy\")):\n",
        "        if(not os.path.exists(\"data\")):\n",
        "            %mkdir data\n",
        "        %cd data\n",
        "        !wget -q https://www.cs.toronto.edu/~nitish/unsupervised_video/mnist_test_seq.npy\n",
        "        %cd ..\n",
        "\n",
        "    %pip install -qr requirements.txt  --quiet\n",
        "    setup_already_done = True"
      ]
    },
    {
      "cell_type": "code",
      "execution_count": 6,
      "metadata": {
        "id": "7J1p8pxgsOwk"
      },
      "outputs": [],
      "source": [
        "# import numpy as np\n",
        "import torch\n",
        "from torch.utils.data import Dataset, DataLoader,random_split\n",
        "# from torch import optim, nn, utils, Tensor\n",
        "# import torchvision\n",
        "# from torchvision.transforms import ToTensor\n",
        "import lightning.pytorch as pl"
      ]
    },
    {
      "cell_type": "code",
      "execution_count": 7,
      "metadata": {
        "id": "fwyp8iXhMeOV"
      },
      "outputs": [],
      "source": [
        "# !nvidia-smi"
      ]
    },
    {
      "cell_type": "code",
      "execution_count": 7,
      "metadata": {
        "colab": {
          "base_uri": "https://localhost:8080/"
        },
        "id": "YWmr2UYBsOwl",
        "outputId": "83beee1c-3f20-4e2c-863e-b9f678573ac8"
      },
      "outputs": [
        {
          "output_type": "execute_result",
          "data": {
            "text/plain": [
              "device(type='cuda')"
            ]
          },
          "metadata": {},
          "execution_count": 7
        }
      ],
      "source": [
        "device = torch.device('cuda' if torch.cuda.is_available() else 'cpu')\n",
        "device"
      ]
    },
    {
      "cell_type": "code",
      "execution_count": 8,
      "metadata": {
        "colab": {
          "base_uri": "https://localhost:8080/",
          "height": 85,
          "referenced_widgets": [
            "91caca6d901b45deb7adc14792f99de8",
            "3c739592006341639c988627fde2bf4c",
            "e092898858e3487ea7b7d2b005241aa2",
            "77dcdba591134153bfebc0b7adfbbe48"
          ]
        },
        "id": "GxHxY5mnsOwl",
        "outputId": "8b7d1521-eb2d-42e6-b97b-4657ea176a84"
      },
      "outputs": [
        {
          "output_type": "display_data",
          "data": {
            "text/plain": [
              "HBox(children=(Image(value=b'GIF89a@\\x00@\\x00\\x87\\x00\\x00\\xff\\xff\\xff\\xfe\\xfe\\xfe\\xfd\\xfd\\xfd\\xfc\\xfc\\xfc\\xf9\\…"
            ],
            "application/vnd.jupyter.widget-view+json": {
              "version_major": 2,
              "version_minor": 0,
              "model_id": "91caca6d901b45deb7adc14792f99de8"
            }
          },
          "metadata": {}
        }
      ],
      "source": [
        "from src.MovingMNIST import MovingMNIST\n",
        "\n",
        "dataset = MovingMNIST(data_path=\"data/mnist_test_seq.npy\")\n",
        "train_set, validation_set, test_set = random_split(dataset,[8000, 1000, 1000],\n",
        "                                                   generator=torch.Generator().manual_seed(42))\n",
        "# Visualization Test\n",
        "dataset.visualize(0)"
      ]
    },
    {
      "cell_type": "code",
      "execution_count": 9,
      "metadata": {
        "id": "EoihBD3wsOwm"
      },
      "outputs": [],
      "source": [
        "loader = DataLoader(dataset)\n",
        "training_dataloader = DataLoader(train_set)\n",
        "validation_dataloader = DataLoader(validation_set)\n",
        "test_dataloader = DataLoader(test_set)"
      ]
    },
    {
      "cell_type": "code",
      "execution_count": 14,
      "metadata": {
        "id": "vA-BP3V5sOwn"
      },
      "outputs": [],
      "source": [
        "from src.simpleLSTM import simpleLSTM\n",
        "import src.Modules as mod\n",
        "from src.parameters import C\n",
        "\n",
        "\n",
        "model = simpleLSTM()\n",
        "\n",
        "\n",
        "encoder = mod.Encoder(C,3)\n",
        "decoder = mod.Decoder(C,3)\n",
        "model_2 = mod.PlEncoderDecoder(encoder,decoder)"
      ]
    },
    {
      "cell_type": "code",
      "execution_count": 18,
      "metadata": {
        "id": "eoFdGrg-sOwn"
      },
      "outputs": [],
      "source": [
        "# for data in loader:\n",
        "#     print(model.training_step(data,0))\n",
        "#     break"
      ]
    },
    {
      "cell_type": "code",
      "execution_count": 13,
      "metadata": {
        "id": "uh0sCdSuyhvt",
        "colab": {
          "base_uri": "https://localhost:8080/"
        },
        "outputId": "f050c9a9-2b4b-4dce-f9ca-a8cf9cd790ef"
      },
      "outputs": [
        {
          "output_type": "stream",
          "name": "stdout",
          "text": [
            "Collecting wandb\n",
            "  Downloading wandb-0.15.4-py3-none-any.whl (2.1 MB)\n",
            "\u001b[2K     \u001b[90m━━━━━━━━━━━━━━━━━━━━━━━━━━━━━━━━━━━━━━━━\u001b[0m \u001b[32m2.1/2.1 MB\u001b[0m \u001b[31m23.9 MB/s\u001b[0m eta \u001b[36m0:00:00\u001b[0m\n",
            "\u001b[?25hRequirement already satisfied: Click!=8.0.0,>=7.0 in /usr/local/lib/python3.10/dist-packages (from wandb) (8.1.3)\n",
            "Collecting GitPython!=3.1.29,>=1.0.0 (from wandb)\n",
            "  Downloading GitPython-3.1.31-py3-none-any.whl (184 kB)\n",
            "\u001b[2K     \u001b[90m━━━━━━━━━━━━━━━━━━━━━━━━━━━━━━━━━━━━━━\u001b[0m \u001b[32m184.3/184.3 kB\u001b[0m \u001b[31m21.2 MB/s\u001b[0m eta \u001b[36m0:00:00\u001b[0m\n",
            "\u001b[?25hRequirement already satisfied: requests<3,>=2.0.0 in /usr/local/lib/python3.10/dist-packages (from wandb) (2.27.1)\n",
            "Requirement already satisfied: psutil>=5.0.0 in /usr/local/lib/python3.10/dist-packages (from wandb) (5.9.5)\n",
            "Collecting sentry-sdk>=1.0.0 (from wandb)\n",
            "  Downloading sentry_sdk-1.26.0-py2.py3-none-any.whl (209 kB)\n",
            "\u001b[2K     \u001b[90m━━━━━━━━━━━━━━━━━━━━━━━━━━━━━━━━━━━━━━\u001b[0m \u001b[32m209.4/209.4 kB\u001b[0m \u001b[31m21.6 MB/s\u001b[0m eta \u001b[36m0:00:00\u001b[0m\n",
            "\u001b[?25hCollecting docker-pycreds>=0.4.0 (from wandb)\n",
            "  Downloading docker_pycreds-0.4.0-py2.py3-none-any.whl (9.0 kB)\n",
            "Requirement already satisfied: PyYAML in /usr/local/lib/python3.10/dist-packages (from wandb) (6.0)\n",
            "Collecting pathtools (from wandb)\n",
            "  Downloading pathtools-0.1.2.tar.gz (11 kB)\n",
            "  Preparing metadata (setup.py) ... \u001b[?25l\u001b[?25hdone\n",
            "Collecting setproctitle (from wandb)\n",
            "  Downloading setproctitle-1.3.2-cp310-cp310-manylinux_2_5_x86_64.manylinux1_x86_64.manylinux_2_17_x86_64.manylinux2014_x86_64.whl (30 kB)\n",
            "Requirement already satisfied: setuptools in /usr/local/lib/python3.10/dist-packages (from wandb) (67.7.2)\n",
            "Requirement already satisfied: appdirs>=1.4.3 in /usr/local/lib/python3.10/dist-packages (from wandb) (1.4.4)\n",
            "Requirement already satisfied: protobuf!=4.21.0,<5,>=3.19.0 in /usr/local/lib/python3.10/dist-packages (from wandb) (3.20.3)\n",
            "Requirement already satisfied: six>=1.4.0 in /usr/local/lib/python3.10/dist-packages (from docker-pycreds>=0.4.0->wandb) (1.16.0)\n",
            "Collecting gitdb<5,>=4.0.1 (from GitPython!=3.1.29,>=1.0.0->wandb)\n",
            "  Downloading gitdb-4.0.10-py3-none-any.whl (62 kB)\n",
            "\u001b[2K     \u001b[90m━━━━━━━━━━━━━━━━━━━━━━━━━━━━━━━━━━━━━━━━\u001b[0m \u001b[32m62.7/62.7 kB\u001b[0m \u001b[31m7.1 MB/s\u001b[0m eta \u001b[36m0:00:00\u001b[0m\n",
            "\u001b[?25hRequirement already satisfied: urllib3<1.27,>=1.21.1 in /usr/local/lib/python3.10/dist-packages (from requests<3,>=2.0.0->wandb) (1.26.16)\n",
            "Requirement already satisfied: certifi>=2017.4.17 in /usr/local/lib/python3.10/dist-packages (from requests<3,>=2.0.0->wandb) (2023.5.7)\n",
            "Requirement already satisfied: charset-normalizer~=2.0.0 in /usr/local/lib/python3.10/dist-packages (from requests<3,>=2.0.0->wandb) (2.0.12)\n",
            "Requirement already satisfied: idna<4,>=2.5 in /usr/local/lib/python3.10/dist-packages (from requests<3,>=2.0.0->wandb) (3.4)\n",
            "Collecting smmap<6,>=3.0.1 (from gitdb<5,>=4.0.1->GitPython!=3.1.29,>=1.0.0->wandb)\n",
            "  Downloading smmap-5.0.0-py3-none-any.whl (24 kB)\n",
            "Building wheels for collected packages: pathtools\n",
            "  Building wheel for pathtools (setup.py) ... \u001b[?25l\u001b[?25hdone\n",
            "  Created wheel for pathtools: filename=pathtools-0.1.2-py3-none-any.whl size=8791 sha256=06c3c1e4d5b87aaf713c14bc24f2f0abf1451d8960386e16600458564f95c0c5\n",
            "  Stored in directory: /root/.cache/pip/wheels/e7/f3/22/152153d6eb222ee7a56ff8617d80ee5207207a8c00a7aab794\n",
            "Successfully built pathtools\n",
            "Installing collected packages: pathtools, smmap, setproctitle, sentry-sdk, docker-pycreds, gitdb, GitPython, wandb\n",
            "Successfully installed GitPython-3.1.31 docker-pycreds-0.4.0 gitdb-4.0.10 pathtools-0.1.2 sentry-sdk-1.26.0 setproctitle-1.3.2 smmap-5.0.0 wandb-0.15.4\n"
          ]
        }
      ],
      "source": [
        "%pip install wandb"
      ]
    },
    {
      "cell_type": "code",
      "execution_count": 11,
      "metadata": {
        "colab": {
          "base_uri": "https://localhost:8080/",
          "height": 191
        },
        "id": "zkIFkrJEsOwn",
        "outputId": "cec06d50-921c-46c7-8c10-4e67c0a17274"
      },
      "outputs": [
        {
          "output_type": "display_data",
          "data": {
            "text/plain": [
              "<IPython.core.display.Javascript object>"
            ],
            "application/javascript": [
              "\n",
              "        window._wandbApiKey = new Promise((resolve, reject) => {\n",
              "            function loadScript(url) {\n",
              "            return new Promise(function(resolve, reject) {\n",
              "                let newScript = document.createElement(\"script\");\n",
              "                newScript.onerror = reject;\n",
              "                newScript.onload = resolve;\n",
              "                document.body.appendChild(newScript);\n",
              "                newScript.src = url;\n",
              "            });\n",
              "            }\n",
              "            loadScript(\"https://cdn.jsdelivr.net/npm/postmate/build/postmate.min.js\").then(() => {\n",
              "            const iframe = document.createElement('iframe')\n",
              "            iframe.style.cssText = \"width:0;height:0;border:none\"\n",
              "            document.body.appendChild(iframe)\n",
              "            const handshake = new Postmate({\n",
              "                container: iframe,\n",
              "                url: 'https://wandb.ai/authorize'\n",
              "            });\n",
              "            const timeout = setTimeout(() => reject(\"Couldn't auto authenticate\"), 5000)\n",
              "            handshake.then(function(child) {\n",
              "                child.on('authorize', data => {\n",
              "                    clearTimeout(timeout)\n",
              "                    resolve(data)\n",
              "                });\n",
              "            });\n",
              "            })\n",
              "        });\n",
              "    "
            ]
          },
          "metadata": {}
        },
        {
          "output_type": "stream",
          "name": "stderr",
          "text": [
            "\u001b[34m\u001b[1mwandb\u001b[0m: Logging into wandb.ai. (Learn how to deploy a W&B server locally: https://wandb.me/wandb-server)\n",
            "\u001b[34m\u001b[1mwandb\u001b[0m: You can find your API key in your browser here: https://wandb.ai/authorize\n",
            "wandb: Paste an API key from your profile and hit enter, or press ctrl+c to quit:"
          ]
        },
        {
          "name": "stdout",
          "output_type": "stream",
          "text": [
            " ··········\n"
          ]
        },
        {
          "output_type": "stream",
          "name": "stderr",
          "text": [
            "\u001b[34m\u001b[1mwandb\u001b[0m: Appending key for api.wandb.ai to your netrc file: /root/.netrc\n"
          ]
        },
        {
          "output_type": "display_data",
          "data": {
            "text/plain": [
              "<IPython.core.display.HTML object>"
            ],
            "text/html": [
              "Tracking run with wandb version 0.15.4"
            ]
          },
          "metadata": {}
        },
        {
          "output_type": "display_data",
          "data": {
            "text/plain": [
              "<IPython.core.display.HTML object>"
            ],
            "text/html": [
              "Run data is saved locally in <code>./wandb/run-20230629_150608-9m3gbx56</code>"
            ]
          },
          "metadata": {}
        },
        {
          "output_type": "display_data",
          "data": {
            "text/plain": [
              "<IPython.core.display.HTML object>"
            ],
            "text/html": [
              "Syncing run <strong><a href='https://wandb.ai/worst_dream_team/lightning_logs/runs/9m3gbx56' target=\"_blank\">vivid-butterfly-5</a></strong> to <a href='https://wandb.ai/worst_dream_team/lightning_logs' target=\"_blank\">Weights & Biases</a> (<a href='https://wandb.me/run' target=\"_blank\">docs</a>)<br/>"
            ]
          },
          "metadata": {}
        },
        {
          "output_type": "display_data",
          "data": {
            "text/plain": [
              "<IPython.core.display.HTML object>"
            ],
            "text/html": [
              " View project at <a href='https://wandb.ai/worst_dream_team/lightning_logs' target=\"_blank\">https://wandb.ai/worst_dream_team/lightning_logs</a>"
            ]
          },
          "metadata": {}
        },
        {
          "output_type": "display_data",
          "data": {
            "text/plain": [
              "<IPython.core.display.HTML object>"
            ],
            "text/html": [
              " View run at <a href='https://wandb.ai/worst_dream_team/lightning_logs/runs/9m3gbx56' target=\"_blank\">https://wandb.ai/worst_dream_team/lightning_logs/runs/9m3gbx56</a>"
            ]
          },
          "metadata": {}
        }
      ],
      "source": [
        "from lightning.pytorch.loggers.wandb import WandbLogger\n",
        "logger = WandbLogger()"
      ]
    },
    {
      "cell_type": "code",
      "execution_count": 12,
      "metadata": {
        "colab": {
          "base_uri": "https://localhost:8080/"
        },
        "id": "oCHICqHDsOwo",
        "outputId": "6e303269-5696-4850-d40c-133f6c5a8373"
      },
      "outputs": [
        {
          "output_type": "stream",
          "name": "stderr",
          "text": [
            "INFO: GPU available: True (cuda), used: True\n",
            "INFO:lightning.pytorch.utilities.rank_zero:GPU available: True (cuda), used: True\n",
            "INFO: TPU available: False, using: 0 TPU cores\n",
            "INFO:lightning.pytorch.utilities.rank_zero:TPU available: False, using: 0 TPU cores\n",
            "INFO: IPU available: False, using: 0 IPUs\n",
            "INFO:lightning.pytorch.utilities.rank_zero:IPU available: False, using: 0 IPUs\n",
            "INFO: HPU available: False, using: 0 HPUs\n",
            "INFO:lightning.pytorch.utilities.rank_zero:HPU available: False, using: 0 HPUs\n"
          ]
        }
      ],
      "source": [
        "# trainer = pl.Trainer(limit_train_batches=1, max_epochs=1, accelerator=\"cpu\")\n",
        "# trainer = pl.Trainer(max_epochs=1, limit_train_batches=100, accelerator=\"cpu\")\n",
        "# trainer = pl.Trainer(max_epochs=5, limit_train_batches=100)\n",
        "trainer = pl.Trainer(max_epochs=10, accelerator=\"gpu\", logger=logger)"
      ]
    },
    {
      "cell_type": "code",
      "execution_count": 15,
      "metadata": {
        "colab": {
          "base_uri": "https://localhost:8080/",
          "height": 590,
          "referenced_widgets": [
            "b41fd41370514b9b99f5b35addadf732",
            "4848554b20e5488896ab809dce8f3814",
            "7478ba45084941419d9341442a2dfa32",
            "7a3e593a971d4d578efa8d409879e973",
            "8fcb22242982453a8c8ce30dd5490e89",
            "20f34d1db47b421a827afa943de2ac22",
            "5bb5686ba2154825b914e95c20b8ed87",
            "1f9ee3f9a21c4134ac4dd12b75d2caa6",
            "30f95099a5d1491f98b4aa02910bd862",
            "5268decf7bd64e04bfc73eee960ac442",
            "ceb4891d88874599aba571112c393a89"
          ]
        },
        "id": "O1W08F54sOwo",
        "outputId": "db9b26ca-49f6-469f-b75b-ddb9985a21f1"
      },
      "outputs": [
        {
          "output_type": "stream",
          "name": "stderr",
          "text": [
            "/usr/local/lib/python3.10/dist-packages/lightning/pytorch/trainer/configuration_validator.py:68: UserWarning: You passed in a `val_dataloader` but have no `validation_step`. Skipping val loop.\n",
            "  rank_zero_warn(\"You passed in a `val_dataloader` but have no `validation_step`. Skipping val loop.\")\n",
            "INFO: LOCAL_RANK: 0 - CUDA_VISIBLE_DEVICES: [0]\n",
            "INFO:lightning.pytorch.accelerators.cuda:LOCAL_RANK: 0 - CUDA_VISIBLE_DEVICES: [0]\n",
            "INFO: \n",
            "  | Name    | Type    | Params\n",
            "------------------------------------\n",
            "0 | lstm    | LSTM    | 526 K \n",
            "1 | encoder | Encoder | 40    \n",
            "2 | decoder | Decoder | 40    \n",
            "------------------------------------\n",
            "526 K     Trainable params\n",
            "0         Non-trainable params\n",
            "526 K     Total params\n",
            "2.106     Total estimated model params size (MB)\n",
            "INFO:lightning.pytorch.callbacks.model_summary:\n",
            "  | Name    | Type    | Params\n",
            "------------------------------------\n",
            "0 | lstm    | LSTM    | 526 K \n",
            "1 | encoder | Encoder | 40    \n",
            "2 | decoder | Decoder | 40    \n",
            "------------------------------------\n",
            "526 K     Trainable params\n",
            "0         Non-trainable params\n",
            "526 K     Total params\n",
            "2.106     Total estimated model params size (MB)\n"
          ]
        },
        {
          "output_type": "display_data",
          "data": {
            "text/plain": [
              "Training: 0it [00:00, ?it/s]"
            ],
            "application/vnd.jupyter.widget-view+json": {
              "version_major": 2,
              "version_minor": 0,
              "model_id": "b41fd41370514b9b99f5b35addadf732"
            }
          },
          "metadata": {}
        },
        {
          "output_type": "stream",
          "name": "stderr",
          "text": [
            "/content/VideoPrediction_MovingMNIST/VideoPrediction_MovingMNIST/src/Modules.py:134: UserWarning: Using a target size (torch.Size([1, 64, 64])) that is different to the input size (torch.Size([1, 1, 64, 64])). This will likely lead to incorrect results due to broadcasting. Please ensure they have the same size.\n",
            "  loss = nn.functional.mse_loss(out, y)\n",
            "INFO: `Trainer.fit` stopped: `max_epochs=10` reached.\n",
            "INFO:lightning.pytorch.utilities.rank_zero:`Trainer.fit` stopped: `max_epochs=10` reached.\n"
          ]
        }
      ],
      "source": [
        "trainer.fit(model=model_2, train_dataloaders=training_dataloader, val_dataloaders=validation_dataloader)"
      ]
    },
    {
      "cell_type": "code",
      "execution_count": 18,
      "metadata": {
        "colab": {
          "base_uri": "https://localhost:8080/",
          "height": 186,
          "referenced_widgets": [
            "5eb84d0468614fcda9434ca83a060ad2",
            "26660f65f41343a78eb32a08e29c6fb0",
            "bd486cb22119474d85f420bc55592b2b",
            "6b7ce0d9fca7400f9ac8f032c34c1659",
            "5016dba3c0a546718e9835d9c852ff9b",
            "5b6264ee4cdd45ff9078dddf6246e70b",
            "a67016939c9a4fa4b6f84cdf5af60542",
            "87ce4c94142e4fdfa82061b7458f8010",
            "93e4e22e42be43c8b5c89d517ba23977",
            "59e5defafffd4d698972bfb8feb915c4",
            "b79b7a001dcc42e3b1e2a899a60c2842"
          ]
        },
        "id": "ie56yNxrsOwo",
        "outputId": "c30d9c34-2ef1-4802-f3a4-97c8b131c19b"
      },
      "outputs": [
        {
          "output_type": "stream",
          "name": "stderr",
          "text": [
            "INFO: LOCAL_RANK: 0 - CUDA_VISIBLE_DEVICES: [0]\n",
            "INFO:lightning.pytorch.accelerators.cuda:LOCAL_RANK: 0 - CUDA_VISIBLE_DEVICES: [0]\n"
          ]
        },
        {
          "output_type": "display_data",
          "data": {
            "text/plain": [
              "Testing: 0it [00:00, ?it/s]"
            ],
            "application/vnd.jupyter.widget-view+json": {
              "version_major": 2,
              "version_minor": 0,
              "model_id": "5eb84d0468614fcda9434ca83a060ad2"
            }
          },
          "metadata": {}
        },
        {
          "output_type": "display_data",
          "data": {
            "text/plain": [
              "┏━━━━━━━━━━━━━━━━━━━━━━━━━━━┳━━━━━━━━━━━━━━━━━━━━━━━━━━━┓\n",
              "┃\u001b[1m \u001b[0m\u001b[1m       Test metric       \u001b[0m\u001b[1m \u001b[0m┃\u001b[1m \u001b[0m\u001b[1m      DataLoader 0       \u001b[0m\u001b[1m \u001b[0m┃\n",
              "┡━━━━━━━━━━━━━━━━━━━━━━━━━━━╇━━━━━━━━━━━━━━━━━━━━━━━━━━━┩\n",
              "│\u001b[36m \u001b[0m\u001b[36m        test_loss        \u001b[0m\u001b[36m \u001b[0m│\u001b[35m \u001b[0m\u001b[35m    2734.07861328125     \u001b[0m\u001b[35m \u001b[0m│\n",
              "└───────────────────────────┴───────────────────────────┘\n"
            ],
            "text/html": [
              "<pre style=\"white-space:pre;overflow-x:auto;line-height:normal;font-family:Menlo,'DejaVu Sans Mono',consolas,'Courier New',monospace\">┏━━━━━━━━━━━━━━━━━━━━━━━━━━━┳━━━━━━━━━━━━━━━━━━━━━━━━━━━┓\n",
              "┃<span style=\"font-weight: bold\">        Test metric        </span>┃<span style=\"font-weight: bold\">       DataLoader 0        </span>┃\n",
              "┡━━━━━━━━━━━━━━━━━━━━━━━━━━━╇━━━━━━━━━━━━━━━━━━━━━━━━━━━┩\n",
              "│<span style=\"color: #008080; text-decoration-color: #008080\">         test_loss         </span>│<span style=\"color: #800080; text-decoration-color: #800080\">     2734.07861328125      </span>│\n",
              "└───────────────────────────┴───────────────────────────┘\n",
              "</pre>\n"
            ]
          },
          "metadata": {}
        },
        {
          "output_type": "execute_result",
          "data": {
            "text/plain": [
              "[{'test_loss': 2734.07861328125}]"
            ]
          },
          "metadata": {},
          "execution_count": 18
        }
      ],
      "source": [
        "trainer.test(model, dataloaders=test_dataloader)"
      ]
    },
    {
      "cell_type": "code",
      "execution_count": null,
      "metadata": {
        "id": "_K_iYU5UsOwo"
      },
      "outputs": [],
      "source": [
        "# !zip -r ../logs lightning_logs/"
      ]
    },
    {
      "cell_type": "code",
      "execution_count": null,
      "metadata": {
        "id": "S6Oqlv_osOwp"
      },
      "outputs": [],
      "source": [
        "# %reload_ext tensorboard\n",
        "# %tensorboard --logdir=lightning_logs/ #--port 6007"
      ]
    },
    {
      "cell_type": "code",
      "execution_count": null,
      "metadata": {
        "id": "LSFuCNYHsOwp"
      },
      "outputs": [],
      "source": [
        "# import gc\n",
        "# print(torch.cuda.list_gpu_processes())\n",
        "# gc.collect()\n",
        "# torch.cuda.empty_cache()"
      ]
    }
  ],
  "metadata": {
    "accelerator": "GPU",
    "colab": {
      "gpuType": "T4",
      "provenance": []
    },
    "kernelspec": {
      "display_name": "Python 3",
      "name": "python3"
    },
    "language_info": {
      "codemirror_mode": {
        "name": "ipython",
        "version": 3
      },
      "file_extension": ".py",
      "mimetype": "text/x-python",
      "name": "python",
      "nbconvert_exporter": "python",
      "pygments_lexer": "ipython3",
      "version": "3.10.6"
    },
    "widgets": {
      "application/vnd.jupyter.widget-state+json": {
        "91caca6d901b45deb7adc14792f99de8": {
          "model_module": "@jupyter-widgets/controls",
          "model_name": "HBoxModel",
          "model_module_version": "1.5.0",
          "state": {
            "_dom_classes": [],
            "_model_module": "@jupyter-widgets/controls",
            "_model_module_version": "1.5.0",
            "_model_name": "HBoxModel",
            "_view_count": null,
            "_view_module": "@jupyter-widgets/controls",
            "_view_module_version": "1.5.0",
            "_view_name": "HBoxView",
            "box_style": "",
            "children": [
              "IPY_MODEL_3c739592006341639c988627fde2bf4c"
            ],
            "layout": "IPY_MODEL_e092898858e3487ea7b7d2b005241aa2"
          }
        },
        "3c739592006341639c988627fde2bf4c": {
          "model_module": "@jupyter-widgets/controls",
          "model_name": "ImageModel",
          "model_module_version": "1.5.0",
          "state": {
            "_dom_classes": [],
            "_model_module": "@jupyter-widgets/controls",
            "_model_module_version": "1.5.0",
            "_model_name": "ImageModel",
            "_view_count": null,
            "_view_module": "@jupyter-widgets/controls",
            "_view_module_version": "1.5.0",
            "_view_name": "ImageView",
            "format": "png",
            "height": "",
            "layout": "IPY_MODEL_77dcdba591134153bfebc0b7adfbbe48",
            "width": ""
          }
        },
        "e092898858e3487ea7b7d2b005241aa2": {
          "model_module": "@jupyter-widgets/base",
          "model_name": "LayoutModel",
          "model_module_version": "1.2.0",
          "state": {
            "_model_module": "@jupyter-widgets/base",
            "_model_module_version": "1.2.0",
            "_model_name": "LayoutModel",
            "_view_count": null,
            "_view_module": "@jupyter-widgets/base",
            "_view_module_version": "1.2.0",
            "_view_name": "LayoutView",
            "align_content": null,
            "align_items": null,
            "align_self": null,
            "border": null,
            "bottom": null,
            "display": null,
            "flex": null,
            "flex_flow": null,
            "grid_area": null,
            "grid_auto_columns": null,
            "grid_auto_flow": null,
            "grid_auto_rows": null,
            "grid_column": null,
            "grid_gap": null,
            "grid_row": null,
            "grid_template_areas": null,
            "grid_template_columns": null,
            "grid_template_rows": null,
            "height": null,
            "justify_content": null,
            "justify_items": null,
            "left": null,
            "margin": null,
            "max_height": null,
            "max_width": null,
            "min_height": null,
            "min_width": null,
            "object_fit": null,
            "object_position": null,
            "order": null,
            "overflow": null,
            "overflow_x": null,
            "overflow_y": null,
            "padding": null,
            "right": null,
            "top": null,
            "visibility": null,
            "width": null
          }
        },
        "77dcdba591134153bfebc0b7adfbbe48": {
          "model_module": "@jupyter-widgets/base",
          "model_name": "LayoutModel",
          "model_module_version": "1.2.0",
          "state": {
            "_model_module": "@jupyter-widgets/base",
            "_model_module_version": "1.2.0",
            "_model_name": "LayoutModel",
            "_view_count": null,
            "_view_module": "@jupyter-widgets/base",
            "_view_module_version": "1.2.0",
            "_view_name": "LayoutView",
            "align_content": null,
            "align_items": null,
            "align_self": null,
            "border": null,
            "bottom": null,
            "display": null,
            "flex": null,
            "flex_flow": null,
            "grid_area": null,
            "grid_auto_columns": null,
            "grid_auto_flow": null,
            "grid_auto_rows": null,
            "grid_column": null,
            "grid_gap": null,
            "grid_row": null,
            "grid_template_areas": null,
            "grid_template_columns": null,
            "grid_template_rows": null,
            "height": null,
            "justify_content": null,
            "justify_items": null,
            "left": null,
            "margin": null,
            "max_height": null,
            "max_width": null,
            "min_height": null,
            "min_width": null,
            "object_fit": null,
            "object_position": null,
            "order": null,
            "overflow": null,
            "overflow_x": null,
            "overflow_y": null,
            "padding": null,
            "right": null,
            "top": null,
            "visibility": null,
            "width": null
          }
        },
        "b41fd41370514b9b99f5b35addadf732": {
          "model_module": "@jupyter-widgets/controls",
          "model_name": "HBoxModel",
          "model_module_version": "1.5.0",
          "state": {
            "_dom_classes": [],
            "_model_module": "@jupyter-widgets/controls",
            "_model_module_version": "1.5.0",
            "_model_name": "HBoxModel",
            "_view_count": null,
            "_view_module": "@jupyter-widgets/controls",
            "_view_module_version": "1.5.0",
            "_view_name": "HBoxView",
            "box_style": "",
            "children": [
              "IPY_MODEL_4848554b20e5488896ab809dce8f3814",
              "IPY_MODEL_7478ba45084941419d9341442a2dfa32",
              "IPY_MODEL_7a3e593a971d4d578efa8d409879e973"
            ],
            "layout": "IPY_MODEL_8fcb22242982453a8c8ce30dd5490e89"
          }
        },
        "4848554b20e5488896ab809dce8f3814": {
          "model_module": "@jupyter-widgets/controls",
          "model_name": "HTMLModel",
          "model_module_version": "1.5.0",
          "state": {
            "_dom_classes": [],
            "_model_module": "@jupyter-widgets/controls",
            "_model_module_version": "1.5.0",
            "_model_name": "HTMLModel",
            "_view_count": null,
            "_view_module": "@jupyter-widgets/controls",
            "_view_module_version": "1.5.0",
            "_view_name": "HTMLView",
            "description": "",
            "description_tooltip": null,
            "layout": "IPY_MODEL_20f34d1db47b421a827afa943de2ac22",
            "placeholder": "​",
            "style": "IPY_MODEL_5bb5686ba2154825b914e95c20b8ed87",
            "value": "Epoch 9: 100%"
          }
        },
        "7478ba45084941419d9341442a2dfa32": {
          "model_module": "@jupyter-widgets/controls",
          "model_name": "FloatProgressModel",
          "model_module_version": "1.5.0",
          "state": {
            "_dom_classes": [],
            "_model_module": "@jupyter-widgets/controls",
            "_model_module_version": "1.5.0",
            "_model_name": "FloatProgressModel",
            "_view_count": null,
            "_view_module": "@jupyter-widgets/controls",
            "_view_module_version": "1.5.0",
            "_view_name": "ProgressView",
            "bar_style": "success",
            "description": "",
            "description_tooltip": null,
            "layout": "IPY_MODEL_1f9ee3f9a21c4134ac4dd12b75d2caa6",
            "max": 8000,
            "min": 0,
            "orientation": "horizontal",
            "style": "IPY_MODEL_30f95099a5d1491f98b4aa02910bd862",
            "value": 8000
          }
        },
        "7a3e593a971d4d578efa8d409879e973": {
          "model_module": "@jupyter-widgets/controls",
          "model_name": "HTMLModel",
          "model_module_version": "1.5.0",
          "state": {
            "_dom_classes": [],
            "_model_module": "@jupyter-widgets/controls",
            "_model_module_version": "1.5.0",
            "_model_name": "HTMLModel",
            "_view_count": null,
            "_view_module": "@jupyter-widgets/controls",
            "_view_module_version": "1.5.0",
            "_view_name": "HTMLView",
            "description": "",
            "description_tooltip": null,
            "layout": "IPY_MODEL_5268decf7bd64e04bfc73eee960ac442",
            "placeholder": "​",
            "style": "IPY_MODEL_ceb4891d88874599aba571112c393a89",
            "value": " 8000/8000 [05:52&lt;00:00, 22.67it/s, v_num=bx56, some_value_step=1.73e+3, some_value_epoch=1.54e+3]"
          }
        },
        "8fcb22242982453a8c8ce30dd5490e89": {
          "model_module": "@jupyter-widgets/base",
          "model_name": "LayoutModel",
          "model_module_version": "1.2.0",
          "state": {
            "_model_module": "@jupyter-widgets/base",
            "_model_module_version": "1.2.0",
            "_model_name": "LayoutModel",
            "_view_count": null,
            "_view_module": "@jupyter-widgets/base",
            "_view_module_version": "1.2.0",
            "_view_name": "LayoutView",
            "align_content": null,
            "align_items": null,
            "align_self": null,
            "border": null,
            "bottom": null,
            "display": "inline-flex",
            "flex": null,
            "flex_flow": "row wrap",
            "grid_area": null,
            "grid_auto_columns": null,
            "grid_auto_flow": null,
            "grid_auto_rows": null,
            "grid_column": null,
            "grid_gap": null,
            "grid_row": null,
            "grid_template_areas": null,
            "grid_template_columns": null,
            "grid_template_rows": null,
            "height": null,
            "justify_content": null,
            "justify_items": null,
            "left": null,
            "margin": null,
            "max_height": null,
            "max_width": null,
            "min_height": null,
            "min_width": null,
            "object_fit": null,
            "object_position": null,
            "order": null,
            "overflow": null,
            "overflow_x": null,
            "overflow_y": null,
            "padding": null,
            "right": null,
            "top": null,
            "visibility": null,
            "width": "100%"
          }
        },
        "20f34d1db47b421a827afa943de2ac22": {
          "model_module": "@jupyter-widgets/base",
          "model_name": "LayoutModel",
          "model_module_version": "1.2.0",
          "state": {
            "_model_module": "@jupyter-widgets/base",
            "_model_module_version": "1.2.0",
            "_model_name": "LayoutModel",
            "_view_count": null,
            "_view_module": "@jupyter-widgets/base",
            "_view_module_version": "1.2.0",
            "_view_name": "LayoutView",
            "align_content": null,
            "align_items": null,
            "align_self": null,
            "border": null,
            "bottom": null,
            "display": null,
            "flex": null,
            "flex_flow": null,
            "grid_area": null,
            "grid_auto_columns": null,
            "grid_auto_flow": null,
            "grid_auto_rows": null,
            "grid_column": null,
            "grid_gap": null,
            "grid_row": null,
            "grid_template_areas": null,
            "grid_template_columns": null,
            "grid_template_rows": null,
            "height": null,
            "justify_content": null,
            "justify_items": null,
            "left": null,
            "margin": null,
            "max_height": null,
            "max_width": null,
            "min_height": null,
            "min_width": null,
            "object_fit": null,
            "object_position": null,
            "order": null,
            "overflow": null,
            "overflow_x": null,
            "overflow_y": null,
            "padding": null,
            "right": null,
            "top": null,
            "visibility": null,
            "width": null
          }
        },
        "5bb5686ba2154825b914e95c20b8ed87": {
          "model_module": "@jupyter-widgets/controls",
          "model_name": "DescriptionStyleModel",
          "model_module_version": "1.5.0",
          "state": {
            "_model_module": "@jupyter-widgets/controls",
            "_model_module_version": "1.5.0",
            "_model_name": "DescriptionStyleModel",
            "_view_count": null,
            "_view_module": "@jupyter-widgets/base",
            "_view_module_version": "1.2.0",
            "_view_name": "StyleView",
            "description_width": ""
          }
        },
        "1f9ee3f9a21c4134ac4dd12b75d2caa6": {
          "model_module": "@jupyter-widgets/base",
          "model_name": "LayoutModel",
          "model_module_version": "1.2.0",
          "state": {
            "_model_module": "@jupyter-widgets/base",
            "_model_module_version": "1.2.0",
            "_model_name": "LayoutModel",
            "_view_count": null,
            "_view_module": "@jupyter-widgets/base",
            "_view_module_version": "1.2.0",
            "_view_name": "LayoutView",
            "align_content": null,
            "align_items": null,
            "align_self": null,
            "border": null,
            "bottom": null,
            "display": null,
            "flex": "2",
            "flex_flow": null,
            "grid_area": null,
            "grid_auto_columns": null,
            "grid_auto_flow": null,
            "grid_auto_rows": null,
            "grid_column": null,
            "grid_gap": null,
            "grid_row": null,
            "grid_template_areas": null,
            "grid_template_columns": null,
            "grid_template_rows": null,
            "height": null,
            "justify_content": null,
            "justify_items": null,
            "left": null,
            "margin": null,
            "max_height": null,
            "max_width": null,
            "min_height": null,
            "min_width": null,
            "object_fit": null,
            "object_position": null,
            "order": null,
            "overflow": null,
            "overflow_x": null,
            "overflow_y": null,
            "padding": null,
            "right": null,
            "top": null,
            "visibility": null,
            "width": null
          }
        },
        "30f95099a5d1491f98b4aa02910bd862": {
          "model_module": "@jupyter-widgets/controls",
          "model_name": "ProgressStyleModel",
          "model_module_version": "1.5.0",
          "state": {
            "_model_module": "@jupyter-widgets/controls",
            "_model_module_version": "1.5.0",
            "_model_name": "ProgressStyleModel",
            "_view_count": null,
            "_view_module": "@jupyter-widgets/base",
            "_view_module_version": "1.2.0",
            "_view_name": "StyleView",
            "bar_color": null,
            "description_width": ""
          }
        },
        "5268decf7bd64e04bfc73eee960ac442": {
          "model_module": "@jupyter-widgets/base",
          "model_name": "LayoutModel",
          "model_module_version": "1.2.0",
          "state": {
            "_model_module": "@jupyter-widgets/base",
            "_model_module_version": "1.2.0",
            "_model_name": "LayoutModel",
            "_view_count": null,
            "_view_module": "@jupyter-widgets/base",
            "_view_module_version": "1.2.0",
            "_view_name": "LayoutView",
            "align_content": null,
            "align_items": null,
            "align_self": null,
            "border": null,
            "bottom": null,
            "display": null,
            "flex": null,
            "flex_flow": null,
            "grid_area": null,
            "grid_auto_columns": null,
            "grid_auto_flow": null,
            "grid_auto_rows": null,
            "grid_column": null,
            "grid_gap": null,
            "grid_row": null,
            "grid_template_areas": null,
            "grid_template_columns": null,
            "grid_template_rows": null,
            "height": null,
            "justify_content": null,
            "justify_items": null,
            "left": null,
            "margin": null,
            "max_height": null,
            "max_width": null,
            "min_height": null,
            "min_width": null,
            "object_fit": null,
            "object_position": null,
            "order": null,
            "overflow": null,
            "overflow_x": null,
            "overflow_y": null,
            "padding": null,
            "right": null,
            "top": null,
            "visibility": null,
            "width": null
          }
        },
        "ceb4891d88874599aba571112c393a89": {
          "model_module": "@jupyter-widgets/controls",
          "model_name": "DescriptionStyleModel",
          "model_module_version": "1.5.0",
          "state": {
            "_model_module": "@jupyter-widgets/controls",
            "_model_module_version": "1.5.0",
            "_model_name": "DescriptionStyleModel",
            "_view_count": null,
            "_view_module": "@jupyter-widgets/base",
            "_view_module_version": "1.2.0",
            "_view_name": "StyleView",
            "description_width": ""
          }
        },
        "5eb84d0468614fcda9434ca83a060ad2": {
          "model_module": "@jupyter-widgets/controls",
          "model_name": "HBoxModel",
          "model_module_version": "1.5.0",
          "state": {
            "_dom_classes": [],
            "_model_module": "@jupyter-widgets/controls",
            "_model_module_version": "1.5.0",
            "_model_name": "HBoxModel",
            "_view_count": null,
            "_view_module": "@jupyter-widgets/controls",
            "_view_module_version": "1.5.0",
            "_view_name": "HBoxView",
            "box_style": "",
            "children": [
              "IPY_MODEL_26660f65f41343a78eb32a08e29c6fb0",
              "IPY_MODEL_bd486cb22119474d85f420bc55592b2b",
              "IPY_MODEL_6b7ce0d9fca7400f9ac8f032c34c1659"
            ],
            "layout": "IPY_MODEL_5016dba3c0a546718e9835d9c852ff9b"
          }
        },
        "26660f65f41343a78eb32a08e29c6fb0": {
          "model_module": "@jupyter-widgets/controls",
          "model_name": "HTMLModel",
          "model_module_version": "1.5.0",
          "state": {
            "_dom_classes": [],
            "_model_module": "@jupyter-widgets/controls",
            "_model_module_version": "1.5.0",
            "_model_name": "HTMLModel",
            "_view_count": null,
            "_view_module": "@jupyter-widgets/controls",
            "_view_module_version": "1.5.0",
            "_view_name": "HTMLView",
            "description": "",
            "description_tooltip": null,
            "layout": "IPY_MODEL_5b6264ee4cdd45ff9078dddf6246e70b",
            "placeholder": "​",
            "style": "IPY_MODEL_a67016939c9a4fa4b6f84cdf5af60542",
            "value": "Testing DataLoader 0: 100%"
          }
        },
        "bd486cb22119474d85f420bc55592b2b": {
          "model_module": "@jupyter-widgets/controls",
          "model_name": "FloatProgressModel",
          "model_module_version": "1.5.0",
          "state": {
            "_dom_classes": [],
            "_model_module": "@jupyter-widgets/controls",
            "_model_module_version": "1.5.0",
            "_model_name": "FloatProgressModel",
            "_view_count": null,
            "_view_module": "@jupyter-widgets/controls",
            "_view_module_version": "1.5.0",
            "_view_name": "ProgressView",
            "bar_style": "success",
            "description": "",
            "description_tooltip": null,
            "layout": "IPY_MODEL_87ce4c94142e4fdfa82061b7458f8010",
            "max": 1000,
            "min": 0,
            "orientation": "horizontal",
            "style": "IPY_MODEL_93e4e22e42be43c8b5c89d517ba23977",
            "value": 1000
          }
        },
        "6b7ce0d9fca7400f9ac8f032c34c1659": {
          "model_module": "@jupyter-widgets/controls",
          "model_name": "HTMLModel",
          "model_module_version": "1.5.0",
          "state": {
            "_dom_classes": [],
            "_model_module": "@jupyter-widgets/controls",
            "_model_module_version": "1.5.0",
            "_model_name": "HTMLModel",
            "_view_count": null,
            "_view_module": "@jupyter-widgets/controls",
            "_view_module_version": "1.5.0",
            "_view_name": "HTMLView",
            "description": "",
            "description_tooltip": null,
            "layout": "IPY_MODEL_59e5defafffd4d698972bfb8feb915c4",
            "placeholder": "​",
            "style": "IPY_MODEL_b79b7a001dcc42e3b1e2a899a60c2842",
            "value": " 1000/1000 [00:08&lt;00:00, 115.02it/s]"
          }
        },
        "5016dba3c0a546718e9835d9c852ff9b": {
          "model_module": "@jupyter-widgets/base",
          "model_name": "LayoutModel",
          "model_module_version": "1.2.0",
          "state": {
            "_model_module": "@jupyter-widgets/base",
            "_model_module_version": "1.2.0",
            "_model_name": "LayoutModel",
            "_view_count": null,
            "_view_module": "@jupyter-widgets/base",
            "_view_module_version": "1.2.0",
            "_view_name": "LayoutView",
            "align_content": null,
            "align_items": null,
            "align_self": null,
            "border": null,
            "bottom": null,
            "display": "inline-flex",
            "flex": null,
            "flex_flow": "row wrap",
            "grid_area": null,
            "grid_auto_columns": null,
            "grid_auto_flow": null,
            "grid_auto_rows": null,
            "grid_column": null,
            "grid_gap": null,
            "grid_row": null,
            "grid_template_areas": null,
            "grid_template_columns": null,
            "grid_template_rows": null,
            "height": null,
            "justify_content": null,
            "justify_items": null,
            "left": null,
            "margin": null,
            "max_height": null,
            "max_width": null,
            "min_height": null,
            "min_width": null,
            "object_fit": null,
            "object_position": null,
            "order": null,
            "overflow": null,
            "overflow_x": null,
            "overflow_y": null,
            "padding": null,
            "right": null,
            "top": null,
            "visibility": null,
            "width": "100%"
          }
        },
        "5b6264ee4cdd45ff9078dddf6246e70b": {
          "model_module": "@jupyter-widgets/base",
          "model_name": "LayoutModel",
          "model_module_version": "1.2.0",
          "state": {
            "_model_module": "@jupyter-widgets/base",
            "_model_module_version": "1.2.0",
            "_model_name": "LayoutModel",
            "_view_count": null,
            "_view_module": "@jupyter-widgets/base",
            "_view_module_version": "1.2.0",
            "_view_name": "LayoutView",
            "align_content": null,
            "align_items": null,
            "align_self": null,
            "border": null,
            "bottom": null,
            "display": null,
            "flex": null,
            "flex_flow": null,
            "grid_area": null,
            "grid_auto_columns": null,
            "grid_auto_flow": null,
            "grid_auto_rows": null,
            "grid_column": null,
            "grid_gap": null,
            "grid_row": null,
            "grid_template_areas": null,
            "grid_template_columns": null,
            "grid_template_rows": null,
            "height": null,
            "justify_content": null,
            "justify_items": null,
            "left": null,
            "margin": null,
            "max_height": null,
            "max_width": null,
            "min_height": null,
            "min_width": null,
            "object_fit": null,
            "object_position": null,
            "order": null,
            "overflow": null,
            "overflow_x": null,
            "overflow_y": null,
            "padding": null,
            "right": null,
            "top": null,
            "visibility": null,
            "width": null
          }
        },
        "a67016939c9a4fa4b6f84cdf5af60542": {
          "model_module": "@jupyter-widgets/controls",
          "model_name": "DescriptionStyleModel",
          "model_module_version": "1.5.0",
          "state": {
            "_model_module": "@jupyter-widgets/controls",
            "_model_module_version": "1.5.0",
            "_model_name": "DescriptionStyleModel",
            "_view_count": null,
            "_view_module": "@jupyter-widgets/base",
            "_view_module_version": "1.2.0",
            "_view_name": "StyleView",
            "description_width": ""
          }
        },
        "87ce4c94142e4fdfa82061b7458f8010": {
          "model_module": "@jupyter-widgets/base",
          "model_name": "LayoutModel",
          "model_module_version": "1.2.0",
          "state": {
            "_model_module": "@jupyter-widgets/base",
            "_model_module_version": "1.2.0",
            "_model_name": "LayoutModel",
            "_view_count": null,
            "_view_module": "@jupyter-widgets/base",
            "_view_module_version": "1.2.0",
            "_view_name": "LayoutView",
            "align_content": null,
            "align_items": null,
            "align_self": null,
            "border": null,
            "bottom": null,
            "display": null,
            "flex": "2",
            "flex_flow": null,
            "grid_area": null,
            "grid_auto_columns": null,
            "grid_auto_flow": null,
            "grid_auto_rows": null,
            "grid_column": null,
            "grid_gap": null,
            "grid_row": null,
            "grid_template_areas": null,
            "grid_template_columns": null,
            "grid_template_rows": null,
            "height": null,
            "justify_content": null,
            "justify_items": null,
            "left": null,
            "margin": null,
            "max_height": null,
            "max_width": null,
            "min_height": null,
            "min_width": null,
            "object_fit": null,
            "object_position": null,
            "order": null,
            "overflow": null,
            "overflow_x": null,
            "overflow_y": null,
            "padding": null,
            "right": null,
            "top": null,
            "visibility": null,
            "width": null
          }
        },
        "93e4e22e42be43c8b5c89d517ba23977": {
          "model_module": "@jupyter-widgets/controls",
          "model_name": "ProgressStyleModel",
          "model_module_version": "1.5.0",
          "state": {
            "_model_module": "@jupyter-widgets/controls",
            "_model_module_version": "1.5.0",
            "_model_name": "ProgressStyleModel",
            "_view_count": null,
            "_view_module": "@jupyter-widgets/base",
            "_view_module_version": "1.2.0",
            "_view_name": "StyleView",
            "bar_color": null,
            "description_width": ""
          }
        },
        "59e5defafffd4d698972bfb8feb915c4": {
          "model_module": "@jupyter-widgets/base",
          "model_name": "LayoutModel",
          "model_module_version": "1.2.0",
          "state": {
            "_model_module": "@jupyter-widgets/base",
            "_model_module_version": "1.2.0",
            "_model_name": "LayoutModel",
            "_view_count": null,
            "_view_module": "@jupyter-widgets/base",
            "_view_module_version": "1.2.0",
            "_view_name": "LayoutView",
            "align_content": null,
            "align_items": null,
            "align_self": null,
            "border": null,
            "bottom": null,
            "display": null,
            "flex": null,
            "flex_flow": null,
            "grid_area": null,
            "grid_auto_columns": null,
            "grid_auto_flow": null,
            "grid_auto_rows": null,
            "grid_column": null,
            "grid_gap": null,
            "grid_row": null,
            "grid_template_areas": null,
            "grid_template_columns": null,
            "grid_template_rows": null,
            "height": null,
            "justify_content": null,
            "justify_items": null,
            "left": null,
            "margin": null,
            "max_height": null,
            "max_width": null,
            "min_height": null,
            "min_width": null,
            "object_fit": null,
            "object_position": null,
            "order": null,
            "overflow": null,
            "overflow_x": null,
            "overflow_y": null,
            "padding": null,
            "right": null,
            "top": null,
            "visibility": null,
            "width": null
          }
        },
        "b79b7a001dcc42e3b1e2a899a60c2842": {
          "model_module": "@jupyter-widgets/controls",
          "model_name": "DescriptionStyleModel",
          "model_module_version": "1.5.0",
          "state": {
            "_model_module": "@jupyter-widgets/controls",
            "_model_module_version": "1.5.0",
            "_model_name": "DescriptionStyleModel",
            "_view_count": null,
            "_view_module": "@jupyter-widgets/base",
            "_view_module_version": "1.2.0",
            "_view_name": "StyleView",
            "description_width": ""
          }
        }
      }
    }
  },
  "nbformat": 4,
  "nbformat_minor": 0
}