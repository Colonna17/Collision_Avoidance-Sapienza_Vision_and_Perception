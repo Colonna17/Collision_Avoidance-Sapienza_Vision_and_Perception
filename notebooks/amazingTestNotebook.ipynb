{
  "nbformat": 4,
  "nbformat_minor": 0,
  "metadata": {
    "colab": {
      "provenance": [],
      "authorship_tag": "ABX9TyMoawQ4vxuT8CEXAM3ZJ7vH",
      "include_colab_link": true
    },
    "kernelspec": {
      "name": "python3",
      "display_name": "Python 3"
    },
    "language_info": {
      "name": "python"
    },
    "accelerator": "GPU",
    "gpuClass": "standard"
  },
  "cells": [
    {
      "cell_type": "markdown",
      "metadata": {
        "id": "view-in-github",
        "colab_type": "text"
      },
      "source": [
        "<a href=\"https://colab.research.google.com/github/Colonna17/Collision_Avoidance-Sapienza_Vision_and_Perception/blob/main/notebooks/amazingTestNotebook.ipynb\" target=\"_parent\"><img src=\"https://colab.research.google.com/assets/colab-badge.svg\" alt=\"Open In Colab\"/></a>"
      ]
    },
    {
      "cell_type": "code",
      "source": [
        "!pip install --upgrade --no-cache-dir gdown"
      ],
      "metadata": {
        "id": "PTJdxTJJ7lZh"
      },
      "execution_count": null,
      "outputs": []
    },
    {
      "cell_type": "code",
      "execution_count": null,
      "metadata": {
        "id": "vvrFSYjFr4xX"
      },
      "outputs": [],
      "source": [
        "!git clone --recurse-submodules https://github.com/Colonna17/Collision_Avoidance-Sapienza_Vision_and_Perception.git\n",
        "\n",
        "%cd Collision_Avoidance-Sapienza_Vision_and_Perception\n",
        "!./setup.sh"
      ]
    },
    {
      "cell_type": "code",
      "source": [
        "# Downloading the pretrained weights\n",
        "!gdown -O weights/Crash_Classfier_weights.pt https://drive.google.com/uc?id=1-4uDpoZ4kLp6WYcWvPwg7TMHxzLeNxLj"
      ],
      "metadata": {
        "id": "HES_548b5PI_"
      },
      "execution_count": null,
      "outputs": []
    },
    {
      "cell_type": "markdown",
      "source": [
        "# Classification example"
      ],
      "metadata": {
        "id": "42V8vEbtstx-"
      }
    },
    {
      "cell_type": "code",
      "source": [
        "!python amazingTest.py --source data/videos/CCD/100096.mp4"
      ],
      "metadata": {
        "id": "HB04bZ1MzFKi"
      },
      "execution_count": null,
      "outputs": []
    }
  ]
}