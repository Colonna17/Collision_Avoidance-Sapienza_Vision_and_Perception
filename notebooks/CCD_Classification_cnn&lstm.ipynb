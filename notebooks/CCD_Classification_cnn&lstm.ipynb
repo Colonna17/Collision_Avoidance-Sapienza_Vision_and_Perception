{
  "nbformat": 4,
  "nbformat_minor": 0,
  "metadata": {
    "colab": {
      "provenance": [],
      "machine_shape": "hm",
      "collapsed_sections": [
        "dO0eyxKsgavT"
      ],
      "include_colab_link": true
    },
    "kernelspec": {
      "name": "python3",
      "display_name": "Python 3"
    },
    "language_info": {
      "name": "python"
    },
    "accelerator": "GPU",
    "gpuClass": "premium"
  },
  "cells": [
    {
      "cell_type": "markdown",
      "metadata": {
        "id": "view-in-github",
        "colab_type": "text"
      },
      "source": [
        "<a href=\"https://colab.research.google.com/github/Colonna17/Collision_Avoidance-Sapienza_Vision_and_Perception/blob/main/CCD_Classification_cnn%26lstm.ipynb\" target=\"_parent\"><img src=\"https://colab.research.google.com/assets/colab-badge.svg\" alt=\"Open In Colab\"/></a>"
      ]
    },
    {
      "cell_type": "code",
      "source": [
        "from google.colab import drive\n",
        "drive.mount('/content/drive')"
      ],
      "metadata": {
        "colab": {
          "base_uri": "https://localhost:8080/"
        },
        "id": "L-0MbHDLyFCP",
        "outputId": "bcb9ef0a-ddf4-4203-cb71-dfe9ace8ff5e"
      },
      "execution_count": null,
      "outputs": [
        {
          "output_type": "stream",
          "name": "stdout",
          "text": [
            "Mounted at /content/drive\n"
          ]
        }
      ]
    },
    {
      "cell_type": "code",
      "source": [
        "import numpy as np\n",
        "import torch\n",
        "import torch.nn as nn\n",
        "from torch.utils.data import Dataset, DataLoader\n",
        "import torchvision\n",
        "import torchvision.transforms as transforms\n",
        "\n",
        "import os, cv2\n",
        "import numpy as np\n",
        "from google.colab.patches import cv2_imshow\n",
        "\n",
        "import matplotlib.pyplot as plt\n",
        "\n",
        "device = torch.device('cuda' if torch.cuda.is_available() else 'cpu')\n",
        "device"
      ],
      "metadata": {
        "id": "t9Lx46qyL3-O",
        "colab": {
          "base_uri": "https://localhost:8080/"
        },
        "outputId": "694e68b6-9b50-460c-de1d-adcbd48ba9d3"
      },
      "execution_count": null,
      "outputs": [
        {
          "output_type": "execute_result",
          "data": {
            "text/plain": [
              "device(type='cuda')"
            ]
          },
          "metadata": {},
          "execution_count": 2
        }
      ]
    },
    {
      "cell_type": "code",
      "source": [
        "!nvidia-smi"
      ],
      "metadata": {
        "colab": {
          "base_uri": "https://localhost:8080/"
        },
        "id": "aV15nzv2oaKq",
        "outputId": "b295367d-783a-4df8-8c03-f729f2f872c6"
      },
      "execution_count": null,
      "outputs": [
        {
          "output_type": "stream",
          "name": "stdout",
          "text": [
            "Fri Jan 13 21:25:56 2023       \n",
            "+-----------------------------------------------------------------------------+\n",
            "| NVIDIA-SMI 460.32.03    Driver Version: 460.32.03    CUDA Version: 11.2     |\n",
            "|-------------------------------+----------------------+----------------------+\n",
            "| GPU  Name        Persistence-M| Bus-Id        Disp.A | Volatile Uncorr. ECC |\n",
            "| Fan  Temp  Perf  Pwr:Usage/Cap|         Memory-Usage | GPU-Util  Compute M. |\n",
            "|                               |                      |               MIG M. |\n",
            "|===============================+======================+======================|\n",
            "|   0  Tesla T4            Off  | 00000000:00:04.0 Off |                    0 |\n",
            "| N/A   46C    P8    10W /  70W |      3MiB / 15109MiB |      0%      Default |\n",
            "|                               |                      |                  N/A |\n",
            "+-------------------------------+----------------------+----------------------+\n",
            "                                                                               \n",
            "+-----------------------------------------------------------------------------+\n",
            "| Processes:                                                                  |\n",
            "|  GPU   GI   CI        PID   Type   Process name                  GPU Memory |\n",
            "|        ID   ID                                                   Usage      |\n",
            "|=============================================================================|\n",
            "|  No running processes found                                                 |\n",
            "+-----------------------------------------------------------------------------+\n"
          ]
        }
      ]
    },
    {
      "cell_type": "code",
      "source": [
        "# # togliere se il contenuto non viene mai usato\n",
        "# !git clone --recurse-submodules https://github.com/Colonna17/Collision_Avoidance-Sapienza_Vision_and_Perception.git\n",
        "\n",
        "# %pip install -qr external/yolov5/requirements.txt \n",
        "# %pip install -qr requirements.txt #install dependencies"
      ],
      "metadata": {
        "id": "PqfPdaTd1VwK"
      },
      "execution_count": null,
      "outputs": []
    },
    {
      "cell_type": "markdown",
      "source": [
        "# Utils"
      ],
      "metadata": {
        "id": "UdbIQvKOaxvz"
      }
    },
    {
      "cell_type": "code",
      "source": [
        "# Transform a numpy array of an image from bgr to rgb format\n",
        "def numpy_brg_to_rgb(np_array):\n",
        "    return np.fliplr(np_array.reshape(-1,3)).reshape(np_array.shape).copy()"
      ],
      "metadata": {
        "id": "UnWn9R2MawqY"
      },
      "execution_count": null,
      "outputs": []
    },
    {
      "cell_type": "code",
      "source": [
        "def custom_from_numpy(np_array):\n",
        "    return torch.from_numpy(np_array).to(device=device, dtype=torch.float32)"
      ],
      "metadata": {
        "id": "o-I0eZmFb_ke"
      },
      "execution_count": null,
      "outputs": []
    },
    {
      "cell_type": "markdown",
      "source": [
        "# Create the dataset "
      ],
      "metadata": {
        "id": "bYJBDmwvfj8p"
      }
    },
    {
      "cell_type": "code",
      "source": [
        "# %cd /content/drive/MyDrive/Vision and Perception Project/Car Crash Dataset\n",
        "data_dir = '/content/drive/MyDrive/Vision and Perception Project/Car Crash Dataset/videos'\n",
        "\n",
        "# Cosa cambia?\n",
        "# test_video_dir = data_dir + \"/Crash-1500/\"\n",
        "test_video_dir = data_dir + '/Test-Crash/'\n",
        "# test_annotation_file = data_dir + \"/Crash-1500.txt\"\n",
        "test_annotation_file = data_dir + '/test_annontations.txt'"
      ],
      "metadata": {
        "id": "W5vz6-CcTXcw"
      },
      "execution_count": null,
      "outputs": []
    },
    {
      "cell_type": "code",
      "source": [
        "!ls /content/drive/MyDrive/Vision\\ and\\ Perception\\ Project/Car\\ Crash\\ Dataset/videos # data_dir"
      ],
      "metadata": {
        "id": "BgZe4Nzo72I6",
        "outputId": "e8ea9bbc-2054-4d71-dd49-09f9fce888f1",
        "colab": {
          "base_uri": "https://localhost:8080/"
        }
      },
      "execution_count": null,
      "outputs": [
        {
          "output_type": "stream",
          "name": "stdout",
          "text": [
            "Crash-1500\tCrash-1500.zip\tNormal.zip\t       Test-Crash\n",
            "Crash-1500.txt\tNormal-3000\ttest_annontations.txt\n"
          ]
        }
      ]
    },
    {
      "cell_type": "code",
      "source": [
        "# [REMINDER] X: A tensor of size (B =batch_size, T =num_channels, C =seq_len, H = height, W = width)\n",
        "\n",
        "class CCDVideos(Dataset):\n",
        "    def __init__(self, videos_directory, annotations_path):\n",
        "        super().__init__()\n",
        "        self.videos_paths = [ videos_directory + video_name for video_name in os.listdir(videos_directory) ]\n",
        "        self.videos_paths.sort()\n",
        "        self.annotations = self.read_annotations_file(annotations_path)\n",
        "\n",
        "    def __getitem__(self, idx):\n",
        "        video_frames = self.get_video_frames(self.videos_paths[idx])\n",
        "        video_annotations = self.annotations[idx]\n",
        "        return {'frames': video_frames, 'annotations': video_annotations}\n",
        "\n",
        "    def __len__(self):\n",
        "        return len(self.videos_paths)\n",
        "\n",
        "    def read_annotations_file(self, annotations_path):\n",
        "        assert os.path.exists(annotations_path), \"Annotation file does not exist!\" + annotations_path\n",
        "        result = []\n",
        "        with open(annotations_path, 'r') as f:\n",
        "            for line in f.readlines():\n",
        "                items = {}\n",
        "                items['vid'] = line.strip().split(',[')[0]\n",
        "                labels = line.strip().split(',[')[1].split('],')[0]\n",
        "                items['labels'] = [int(val) for val in labels.split(',')]\n",
        "                others = line.strip().split(',[')[1].split('],')[1].split(',')\n",
        "                items['startframe'], items['vid_ytb'], items['lighting'], items['weather'], items['ego_involve'] = others\n",
        "                result.append(items)\n",
        "        f.close()\n",
        "        return result\n",
        "\n",
        "    def get_video_frames(self, video_file, topN=50):\n",
        "        # get the video data\n",
        "        cap = cv2.VideoCapture(video_file)\n",
        "        ret, frame = cap.read() # Cos'è ret?\n",
        "        \n",
        "        video_data = []\n",
        "        while (ret):\n",
        "            video_data.append(frame)\n",
        "            ret, frame = cap.read()\n",
        "        \n",
        "        # Necessario?\n",
        "        assert len(video_data) >= topN \n",
        "        video_data = video_data[:topN]\n",
        "        \n",
        "        return video_data"
      ],
      "metadata": {
        "id": "btk1Dcq1fQIo"
      },
      "execution_count": null,
      "outputs": []
    },
    {
      "cell_type": "code",
      "source": [
        "ccd_dataset = CCDVideos(test_video_dir, test_annotation_file)\n",
        "# loader = DataLoader(ccd_dataset, batch_size=1) #, num_workers=0)"
      ],
      "metadata": {
        "id": "-_WkXksri8MO"
      },
      "execution_count": null,
      "outputs": []
    },
    {
      "cell_type": "code",
      "source": [
        "test = ccd_dataset[3]\n",
        "frame_nr = 45\n",
        "img_test = test['frames'][frame_nr]\n",
        "\n",
        "img_test = numpy_brg_to_rgb(img_test) # Needed?\n",
        "\n",
        "print(img_test.shape, type(img_test))\n",
        "print('Annotation: ', test['annotations']['labels'][frame_nr])\n",
        "plt.imshow(img_test)"
      ],
      "metadata": {
        "id": "8BkS0zWDqaVN",
        "outputId": "85d13f96-0827-407f-af1e-fd48516c50d1",
        "colab": {
          "base_uri": "https://localhost:8080/",
          "height": 292
        }
      },
      "execution_count": null,
      "outputs": [
        {
          "output_type": "stream",
          "name": "stdout",
          "text": [
            "(720, 1280, 3) <class 'numpy.ndarray'>\n",
            "Annotation:  1\n"
          ]
        },
        {
          "output_type": "execute_result",
          "data": {
            "text/plain": [
              "<matplotlib.image.AxesImage at 0x7f1a04d56a60>"
            ]
          },
          "metadata": {},
          "execution_count": 11
        },
        {
          "output_type": "display_data",
          "data": {
            "text/plain": [
              "<Figure size 432x288 with 1 Axes>"
            ],
            "image/png": "[encoded data removed]"
          },
          "metadata": {
            "needs_background": "light"
          }
        }
      ]
    },
    {
      "cell_type": "markdown",
      "source": [
        "# Model"
      ],
      "metadata": {
        "id": "ndbYP6M8qYRN"
      }
    },
    {
      "cell_type": "code",
      "source": [
        "class HParams():\n",
        "    # Model parameters\n",
        "    img_size = (720, 1280, 3)\n",
        "    lstm_hidden_dim = 32\n",
        "    collision_threshold = 0.5\n",
        "    \n",
        "    # Training parameters\n",
        "    lr = 1e-4\n",
        "    num_epochs = 5\n",
        "\n",
        "params = HParams()\n",
        "params.device = device"
      ],
      "metadata": {
        "id": "THsnPEZzKizB"
      },
      "execution_count": null,
      "outputs": []
    },
    {
      "cell_type": "code",
      "source": [
        "class Classificator(nn.Module):\n",
        "    def __init__(self, parameters):\n",
        "        super().__init__()\n",
        "        self.device = parameters.device\n",
        "        self.loss_fn = nn.BCELoss()\n",
        "\n",
        "        # ToDo: Add CNN initialization here\n",
        "\n",
        "        lstm_input_size = parameters.img_size[0] * parameters.img_size[1] * parameters.img_size[2] # Must be changed if we introduce a CNN\n",
        "        self.lstm = torch.nn.LSTM(lstm_input_size, params.lstm_hidden_dim)\n",
        "        self.relu = torch.nn.ReLU()\n",
        "\n",
        "        self.linear_classifier = torch.nn.Linear(params.lstm_hidden_dim, 1)\n",
        "        self.sigmoid = nn.Sigmoid()\n",
        "    \n",
        "\n",
        "    def forward(self, input, h=None):\n",
        "        # ToDo: decide the format of the input\n",
        "        # if(some_condition): input = torch.from_numpy(input).to(device=device, dtype=torch.float32)\n",
        "\n",
        "        # ToDo: use CNN here to produce the input for the lstm\n",
        "        flat_input = torch.flatten(input).unsqueeze(0)\n",
        "\n",
        "        output, (h, c) = self.lstm(flat_input, h)\n",
        "        output = self.relu(output)\n",
        "\n",
        "        output = self.linear_classifier(output)\n",
        "        output = self.sigmoid(output)\n",
        "\n",
        "        return output, (h, c)\n",
        "    \n",
        "    def loss(self, pred, y):\n",
        "        return self.loss_fn(pred, y)\n",
        "\n",
        "\n",
        "model = Classificator(params).to(device)"
      ],
      "metadata": {
        "id": "yZ_Ms0qTAk6P"
      },
      "execution_count": null,
      "outputs": []
    },
    {
      "cell_type": "code",
      "source": [
        "# # Single trame test\n",
        "# model.eval()\n",
        "# test_tensor = custom_from_numpy(img_test)\n",
        "# test_output, h = model(test_tensor)\n",
        "# test_output"
      ],
      "metadata": {
        "id": "NWt64rMgID9T"
      },
      "execution_count": null,
      "outputs": []
    },
    {
      "cell_type": "code",
      "source": [
        "# Entire video test\n",
        "model.eval()\n",
        "predictions = []\n",
        "h = None\n",
        "for frame in test['frames']:\n",
        "    frame = custom_from_numpy(frame)\n",
        "    pred, h = model(frame, h)\n",
        "\n",
        "    predictions.append((pred.item(), pred.item() > params.collision_threshold))\n",
        "\n",
        "predictions"
      ],
      "metadata": {
        "colab": {
          "base_uri": "https://localhost:8080/"
        },
        "id": "44nfBK6GVljk",
        "outputId": "5ff62397-cb42-48f4-eeb9-792fbbc5667d"
      },
      "execution_count": null,
      "outputs": [
        {
          "output_type": "execute_result",
          "data": {
            "text/plain": [
              "[(0.478543758392334, False),\n",
              " (0.4856824278831482, False),\n",
              " (0.4867771863937378, False),\n",
              " (0.4869280755519867, False),\n",
              " (0.48694854974746704, False),\n",
              " (0.4869512617588043, False),\n",
              " (0.48695170879364014, False),\n",
              " (0.48695170879364014, False),\n",
              " (0.5230967998504639, True),\n",
              " (0.5230967998504639, True),\n",
              " (0.48695170879364014, False),\n",
              " (0.48695170879364014, False),\n",
              " (0.48695170879364014, False),\n",
              " (0.48695170879364014, False),\n",
              " (0.48695170879364014, False),\n",
              " (0.48695170879364014, False),\n",
              " (0.48695170879364014, False),\n",
              " (0.48695170879364014, False),\n",
              " (0.48695170879364014, False),\n",
              " (0.48695170879364014, False),\n",
              " (0.48695170879364014, False),\n",
              " (0.48695170879364014, False),\n",
              " (0.5155078172683716, True),\n",
              " (0.5155078172683716, True),\n",
              " (0.5514940619468689, True),\n",
              " (0.5514940619468689, True),\n",
              " (0.5155078172683716, True),\n",
              " (0.5155078172683716, True),\n",
              " (0.5230967998504639, True),\n",
              " (0.5230967998504639, True),\n",
              " (0.5230967998504639, True),\n",
              " (0.48695170879364014, False),\n",
              " (0.5230967998504639, True),\n",
              " (0.5230967998504639, True),\n",
              " (0.48695170879364014, False),\n",
              " (0.48695170879364014, False),\n",
              " (0.48695170879364014, False),\n",
              " (0.48695170879364014, False),\n",
              " (0.5230967998504639, True),\n",
              " (0.5230967998504639, True),\n",
              " (0.5230967998504639, True),\n",
              " (0.5230967998504639, True),\n",
              " (0.47931286692619324, False),\n",
              " (0.5142894983291626, True),\n",
              " (0.5141281485557556, True),\n",
              " (0.5141062140464783, True),\n",
              " (0.47795677185058594, False),\n",
              " (0.4779564440250397, False),\n",
              " (0.4779563546180725, False),\n",
              " (0.4779563546180725, False)]"
            ]
          },
          "metadata": {},
          "execution_count": 49
        }
      ]
    },
    {
      "cell_type": "markdown",
      "source": [
        "# TRAINING\n"
      ],
      "metadata": {
        "id": "JAsmRnAADQPq"
      }
    },
    {
      "cell_type": "code",
      "source": [
        "optim = torch.optim.Adam(model.parameters(), lr=params.lr)"
      ],
      "metadata": {
        "id": "5v9jXouTDZcD"
      },
      "execution_count": null,
      "outputs": []
    },
    {
      "cell_type": "code",
      "source": [
        "def train(model, optimizer, train_dataset):\n",
        "    torch.cuda.empty_cache()\n",
        "    train_history = []\n",
        "    valid_history = []\n",
        "\n",
        "    for epoch in range(params.num_epochs):\n",
        "        print('Epoch {:03d}:'.format(epoch + 1))\n",
        "\n",
        "        epoch_loss = 0.0\n",
        "        model.train() \n",
        "\n",
        "        for step, video in enumerate(train_dataset):\n",
        "            print('\\tVideo nr: ', step)\n",
        "            frames = video['frames']\n",
        "            labels = torch.FloatTensor(video['annotations']['labels']).to(params.device)\n",
        "            \n",
        "            optimizer.zero_grad()\n",
        "\n",
        "            predictions = torch.FloatTensor().to(params.device)\n",
        "            h = None\n",
        "            for frame in frames:\n",
        "                frame = custom_from_numpy(frame)\n",
        "                pred, h = model(frame, h)\n",
        "                \n",
        "                predictions = torch.cat((predictions, pred))\n",
        "            \n",
        "            predictions = predictions.squeeze()\n",
        "            # predictions = predictions.view(-1, predictions.shape[-1])\n",
        "            # labels = labels.view(-1)\n",
        "\n",
        "            sample_loss = model.loss(predictions, labels)\n",
        "            sample_loss.backward()\n",
        "            optimizer.step()\n",
        "\n",
        "            epoch_loss += sample_loss.tolist()\n",
        "\n",
        "        avg_epoch_loss = epoch_loss / len(train_dataset)\n",
        "        train_history.append(avg_epoch_loss)\n",
        "        print('\\tTrain loss = {:0.4f}'.format(avg_epoch_loss))\n",
        "\n",
        "        # avg_valid_loss = evaluate(model, valid_dataset)\n",
        "        # valid_history.append(avg_valid_loss)\n",
        "        # print('\\tValid loss = {:0.4f}'.format(avg_valid_loss))\n",
        "        # if early_stopping:\n",
        "        #     stop = epoch > 0 and valid_history[-1] > valid_history[-2]\n",
        "        #     if stop:\n",
        "        #         if patience <= 0:\n",
        "        #             if(verbose): print('\\tEarly stop.')\n",
        "        #             break\n",
        "        #         else:\n",
        "        #             if(verbose): print('\\tPatience.')\n",
        "        #             patience -= 1\n",
        "\n",
        "    return {'train_history': train_history, 'valid_history': valid_history}"
      ],
      "metadata": {
        "id": "Jur0G0pduqcq"
      },
      "execution_count": null,
      "outputs": []
    },
    {
      "cell_type": "code",
      "source": [
        "# def evaluate(model, validation_dataset):\n",
        "#     return"
      ],
      "metadata": {
        "id": "ADvwYCKW9dKe"
      },
      "execution_count": null,
      "outputs": []
    },
    {
      "cell_type": "code",
      "source": [
        "logs = train(model, optim, ccd_dataset)"
      ],
      "metadata": {
        "colab": {
          "base_uri": "https://localhost:8080/"
        },
        "id": "xCXjlDYs0Xik",
        "outputId": "1631a9d5-8a25-41ec-9351-4d056ae7a5ac"
      },
      "execution_count": null,
      "outputs": [
        {
          "output_type": "stream",
          "name": "stdout",
          "text": [
            "Epoch 001:\n",
            "\tVideo nr:  0\n",
            "\tVideo nr:  1\n",
            "\tVideo nr:  2\n",
            "\tVideo nr:  3\n",
            "\tVideo nr:  4\n",
            "\tVideo nr:  5\n",
            "\tVideo nr:  6\n",
            "\tVideo nr:  7\n",
            "\tVideo nr:  8\n",
            "\tVideo nr:  9\n",
            "\tTrain loss = 0.6997\n",
            "Epoch 002:\n",
            "\tVideo nr:  0\n",
            "\tVideo nr:  1\n",
            "\tVideo nr:  2\n",
            "\tVideo nr:  3\n",
            "\tVideo nr:  4\n",
            "\tVideo nr:  5\n",
            "\tVideo nr:  6\n",
            "\tVideo nr:  7\n",
            "\tVideo nr:  8\n",
            "\tVideo nr:  9\n",
            "\tTrain loss = 0.6940\n",
            "Epoch 003:\n",
            "\tVideo nr:  0\n",
            "\tVideo nr:  1\n",
            "\tVideo nr:  2\n",
            "\tVideo nr:  3\n",
            "\tVideo nr:  4\n",
            "\tVideo nr:  5\n",
            "\tVideo nr:  6\n",
            "\tVideo nr:  7\n",
            "\tVideo nr:  8\n",
            "\tVideo nr:  9\n",
            "\tTrain loss = 0.6934\n",
            "Epoch 004:\n",
            "\tVideo nr:  0\n",
            "\tVideo nr:  1\n",
            "\tVideo nr:  2\n",
            "\tVideo nr:  3\n",
            "\tVideo nr:  4\n",
            "\tVideo nr:  5\n",
            "\tVideo nr:  6\n",
            "\tVideo nr:  7\n",
            "\tVideo nr:  8\n",
            "\tVideo nr:  9\n",
            "\tTrain loss = 0.6927\n",
            "Epoch 005:\n",
            "\tVideo nr:  0\n",
            "\tVideo nr:  1\n",
            "\tVideo nr:  2\n",
            "\tVideo nr:  3\n",
            "\tVideo nr:  4\n",
            "\tVideo nr:  5\n",
            "\tVideo nr:  6\n",
            "\tVideo nr:  7\n",
            "\tVideo nr:  8\n",
            "\tVideo nr:  9\n",
            "\tTrain loss = 0.6920\n"
          ]
        }
      ]
    },
    {
      "cell_type": "code",
      "source": [
        "model.eval()\n",
        "optim.zero_grad()\n",
        "torch.cuda.empty_cache()"
      ],
      "metadata": {
        "id": "uWd793_6Cqnb"
      },
      "execution_count": null,
      "outputs": []
    },
    {
      "cell_type": "code",
      "source": [
        "def plot_training_logs(logs, title, out_img_name):\n",
        "    plt.figure(figsize=(15,10))\n",
        "\n",
        "    plt.plot(list(range(len(logs['train_history']))), logs['train_history'], label='Train loss')\n",
        "    # plt.plot(list(range(len(logs['valid_history']))), logs['valid_history'], label='Test loss')\n",
        "    \n",
        "    plt.title(title)\n",
        "    plt.xlabel('Epochs')\n",
        "    plt.ylabel('Loss')\n",
        "    plt.legend(loc=\"upper right\")\n",
        "    plt.savefig(out_img_name)\n",
        "    plt.show()"
      ],
      "metadata": {
        "id": "UIWsMwm6DoY3"
      },
      "execution_count": null,
      "outputs": []
    },
    {
      "cell_type": "code",
      "source": [
        "logs"
      ],
      "metadata": {
        "colab": {
          "base_uri": "https://localhost:8080/"
        },
        "id": "cakM0Kz_EP0x",
        "outputId": "2ff87737-5c48-4dd0-ee63-1f7238b0299a"
      },
      "execution_count": null,
      "outputs": [
        {
          "output_type": "execute_result",
          "data": {
            "text/plain": [
              "{'train_history': [0.6997361361980439,\n",
              "  0.6940302550792694,\n",
              "  0.6933571875095368,\n",
              "  0.6926935613155365,\n",
              "  0.6920358598232269],\n",
              " 'valid_history': []}"
            ]
          },
          "metadata": {},
          "execution_count": 47
        }
      ]
    },
    {
      "cell_type": "code",
      "source": [
        "plot_training_logs(logs, 'Train vs Test loss', 'loss_plot.png')"
      ],
      "metadata": {
        "colab": {
          "base_uri": "https://localhost:8080/",
          "height": 621
        },
        "id": "mvPNB0y_Dtfm",
        "outputId": "c1a6e829-a98e-42a0-fe21-f7088490973f"
      },
      "execution_count": null,
      "outputs": [
        {
          "output_type": "display_data",
          "data": {
            "text/plain": [
              "<Figure size 1080x720 with 1 Axes>"
            ],
            "image/png": "[encoded data removed]"
          },
          "metadata": {
            "needs_background": "light"
          }
        }
      ]
    },
    {
      "cell_type": "markdown",
      "source": [
        "# Original Model"
      ],
      "metadata": {
        "id": "dO0eyxKsgavT"
      }
    },
    {
      "cell_type": "code",
      "source": [
        "# Original ConvLSTM cell as proposed by Shi et al.\n",
        "# Adapted from https://github.com/ndrplz/ConvLSTM_pytorch\n",
        "\n",
        "class ConvLSTMCell(torch.nn.Module):\n",
        "\n",
        "    def __init__(self, in_channels, out_channels,  kernel_size, padding, activation, frame_size):\n",
        "        \"\"\"\n",
        "        Initialize ConvLSTM cell.\n",
        "        Parameters\n",
        "        ----------\n",
        "        in_channels: int\n",
        "            Number of channels of input tensor.\n",
        "        out_channels: int\n",
        "            Number of channels of hidden state.\n",
        "        kernel_size: (int, int)\n",
        "            Size of the convolutional kernel.\n",
        "        \"\"\"\n",
        "\n",
        "        # super(ConvLSTMCell, self).__init__()  # Perchè?\n",
        "        super().__init__()  \n",
        "\n",
        "        if activation == \"tanh\":\n",
        "            self.activation = torch.tanh \n",
        "        elif activation == \"relu\":\n",
        "            self.activation = torch.relu\n",
        "        \n",
        "        self.conv = nn.Conv2d(in_channels = in_channels + out_channels, \n",
        "                              out_channels = 4 * out_channels, \n",
        "                              kernel_size = kernel_size, \n",
        "                              padding = padding)           \n",
        "\n",
        "        # Initialize weights for Hadamard Products\n",
        "        self.W_ci = nn.Parameter(torch.Tensor(out_channels, *frame_size))\n",
        "        self.W_co = nn.Parameter(torch.Tensor(out_channels, *frame_size))\n",
        "        self.W_cf = nn.Parameter(torch.Tensor(out_channels, *frame_size))\n",
        "\n",
        "    def forward(self, X, H_prev, C_prev):\n",
        "        \"\"\"\n",
        "        The following are all 3D tensors: first dimension is n° of channels/filters\n",
        "        while second and third are Height and Width of a frame.\n",
        "        i: input gate\n",
        "        f: forget gate\n",
        "        o: output gate\n",
        "        C: cell state\n",
        "        H: hidden state\n",
        "        X: inputs\n",
        "        W: weights matrices. They are a learnable set of kernels.\n",
        "        \"\"\"\n",
        "\n",
        "        conv_output = self.conv(torch.cat([X, H_prev], dim=1))\n",
        "\n",
        "        i_conv, f_conv, C_conv, o_conv = torch.chunk(conv_output, chunks=4, dim=1)\n",
        "\n",
        "        input_gate = torch.sigmoid(i_conv + self.W_ci * C_prev )\n",
        "        forget_gate = torch.sigmoid(f_conv + self.W_cf * C_prev )\n",
        "\n",
        "        # Current Cell output\n",
        "        C = forget_gate*C_prev + input_gate * self.activation(C_conv)\n",
        "\n",
        "        output_gate = torch.sigmoid(o_conv + self.W_co * C )\n",
        "\n",
        "        # Current Hidden State\n",
        "        H = output_gate * self.activation(C)\n",
        "\n",
        "        return H, C"
      ],
      "metadata": {
        "id": "jOFBSW1cCxG2"
      },
      "execution_count": null,
      "outputs": []
    },
    {
      "cell_type": "code",
      "source": [
        "# Original ConvLSTM cell as proposed by Shi et al.\n",
        "# Adapted from https://github.com/ndrplz/ConvLSTM_pytorch\n",
        "\n",
        "class ConvLSTM(nn.Module): \n",
        "    \"\"\"\n",
        "    Parameters:\n",
        "        input_dim: Number of channels in input\n",
        "        hidden_dim: Number of hidden channels\n",
        "        kernel_size: Size of kernel in convolutions\n",
        "        num_layers: Number of LSTM layers stacked on each other\n",
        "        batch_first: Whether or not dimension 0 is the batch or not\n",
        "        bias: Bias or no bias in Convolution\n",
        "        return_all_layers: Return the list of computations for all layers\n",
        "        Note: Will do same padding.\n",
        "    Input:\n",
        "       X: A tensor of size (B =batch_size, T =num_channels, C =seq_len, H = height, W = width)\n",
        "    Output:\n",
        "        A tuple of two lists of length num_layers (or length 1 if return_all_layers is False).\n",
        "            0 - layer_output_list is the list of lists of length T of each output\n",
        "            1 - last_state_list is the list of last states\n",
        "                    each element of the list is a tuple (h, c) for hidden state and memory\n",
        "    Example:\n",
        "        >> x = torch.rand((32, 10, 64, 128, 128))\n",
        "        >> convlstm = ConvLSTM(64, 16, 3, 1, True, True, False)\n",
        "        >> _, last_states = convlstm(x)\n",
        "        >> h = last_states[0][0]  # 0 for layer index, 0 for h index\n",
        "    \"\"\"\n",
        "\n",
        "    def __init__(self, in_channels, out_channels, kernel_size, padding, activation, frame_size):\n",
        "        # super(ConvLSTM, self).__init__()\n",
        "        super().__init__()        \n",
        "\n",
        "        self.out_channels = out_channels\n",
        "\n",
        "        # We will unroll this over time steps. Remember that convLSTMcell returns\n",
        "        # H hidden state and C cell\n",
        "        self.convLSTMcell = ConvLSTMCell(in_channels, out_channels, kernel_size, padding, activation, frame_size)\n",
        "\n",
        "    \n",
        "    # X is a frame sequence of size (B, T, C, H, W) with (B = batch_size, T = num_channels, C = seq_len, H = height, W = width)\n",
        "    def forward(self, X):\n",
        "        # Get the dimensions\n",
        "        batch_size, _, seq_len, height, width = X.size() # what is the ignored parameter\n",
        "\n",
        "        # Initialize output\n",
        "        output = torch.zeros(batch_size, self.out_channels, seq_len, \n",
        "        height, width, device=device)\n",
        "        \n",
        "        # Initialize Hidden State\n",
        "        H = torch.zeros(batch_size, self.out_channels, \n",
        "        height, width, device=device)\n",
        "\n",
        "        # Initialize Cell Input\n",
        "        C = torch.zeros(batch_size,self.out_channels, \n",
        "        height, width, device=device)\n",
        "\n",
        "        # Unroll over time steps\n",
        "        for time_step in range(seq_len):\n",
        "\n",
        "            H, C = self.convLSTMcell(X[:,:,time_step], H, C)\n",
        "\n",
        "            output[:,:,time_step] = H\n",
        "\n",
        "        return output"
      ],
      "metadata": {
        "id": "F5vruikjC4l6"
      },
      "execution_count": null,
      "outputs": []
    },
    {
      "cell_type": "code",
      "source": [
        "\n",
        "class Seq2Seq(nn.Module):\n",
        "\n",
        "    def __init__(self, num_channels, num_kernels, kernel_size, padding, activation, frame_size, num_layers):\n",
        "        super(Seq2Seq, self).__init__()\n",
        "\n",
        "        self.sequential = nn.Sequential()\n",
        "\n",
        "        # Add First layer (Different in_channels than the rest)\n",
        "        self.sequential.add_module(\n",
        "            \"convlstm\", ConvLSTM(\n",
        "                in_channels=num_channels, out_channels=num_kernels,\n",
        "                kernel_size=kernel_size, padding=padding, \n",
        "                activation=activation, frame_size=frame_size)\n",
        "        )\n",
        "\n",
        "        # self.sequential.add_module(\n",
        "        #     \"batchnorm\", nn.BatchNorm3d(num_features=num_kernels)\n",
        "        # ) \n",
        "\n",
        "        # Add Convolutional Layer to predict output frame\n",
        "        self.conv = nn.Conv2d(\n",
        "            in_channels=num_kernels, out_channels=num_channels,\n",
        "            kernel_size=kernel_size, padding=padding)\n",
        "\n",
        "    def forward(self, X):\n",
        "\n",
        "        # Forward propagation through all the layers\n",
        "        output = self.sequential(X)\n",
        "\n",
        "        # Return only the last output frame\n",
        "        output = self.conv(output[:,:,-1])\n",
        "        outpu = nn.Sigmoid()(output)\n",
        "        \n",
        "        return output"
      ],
      "metadata": {
        "id": "RMfN4x-__KXk"
      },
      "execution_count": null,
      "outputs": []
    },
    {
      "cell_type": "markdown",
      "source": [
        "# Roba a caso"
      ],
      "metadata": {
        "id": "q9LxlNyMDd_1"
      }
    },
    {
      "cell_type": "code",
      "source": [
        "# !pip install wandb\n",
        "# import wandb\n",
        "# wandb.init()"
      ],
      "metadata": {
        "id": "atiotm-qXO2o"
      },
      "execution_count": null,
      "outputs": []
    },
    {
      "cell_type": "code",
      "source": [
        "# import nvidia_smi\n",
        "\n",
        "# nvidia_smi.nvmlInit()\n",
        "\n",
        "# deviceCount = nvidia_smi.nvmlDeviceGetCount()\n",
        "# for i in range(deviceCount):\n",
        "#     handle = nvidia_smi.nvmlDeviceGetHandleByIndex(i)\n",
        "#     info = nvidia_smi.nvmlDeviceGetMemoryInfo(handle)\n",
        "#     print(\"Device {}: {}, Memory : ({:.2f}% free): {}(total), {} (free), {} (used)\".format(i, nvidia_smi.nvmlDeviceGetName(handle), 100*info.free/info.total, info.total, info.free, info.used))\n",
        "\n",
        "# nvidia_smi.nvmlShutdown()"
      ],
      "metadata": {
        "id": "98w0-xusZfhZ",
        "outputId": "fe250e45-d1a9-40d2-b1b8-041dcabd7880",
        "colab": {
          "base_uri": "https://localhost:8080/"
        }
      },
      "execution_count": null,
      "outputs": [
        {
          "output_type": "stream",
          "name": "stdout",
          "text": [
            "Device 0: b'Tesla T4', Memory : (3.20% free): 15843721216(total), 507248640 (free), 15336472576 (used)\n"
          ]
        }
      ]
    },
    {
      "cell_type": "code",
      "source": [
        "# # prints currently alive Tensors and Variables\n",
        "# import torch\n",
        "# import gc\n",
        "# for obj in gc.get_objects():\n",
        "#     try:\n",
        "#         if torch.is_tensor(obj) or (hasattr(obj, 'data') and torch.is_tensor(obj.data)):\n",
        "#             print(type(obj), obj.size(), obj.element_size() * obj.nelement())\n",
        "#     except:\n",
        "#         pass\n",
        "#     del obj"
      ],
      "metadata": {
        "id": "-ShsnKl7amvf"
      },
      "execution_count": null,
      "outputs": []
    },
    {
      "cell_type": "code",
      "source": [
        "# import sys\n",
        "# def sizeof_fmt(num, suffix='B'):\n",
        "#     ''' by Fred Cirera,  https://stackoverflow.com/a/1094933/1870254, modified'''\n",
        "#     for unit in ['','Ki','Mi','Gi','Ti','Pi','Ei','Zi']:\n",
        "#         if abs(num) < 1024.0:\n",
        "#             return \"%3.1f %s%s\" % (num, unit, suffix)\n",
        "#         num /= 1024.0\n",
        "#     return \"%.1f %s%s\" % (num, 'Yi', suffix)\n",
        "\n",
        "# for name, size in sorted(((name, sys.getsizeof(value)) for name, value in locals().items()),\n",
        "#                          key= lambda x: -x[1])[:10]:\n",
        "#     print(\"{:>30}: {:>8}\".format(name, sizeof_fmt(size)))"
      ],
      "metadata": {
        "id": "GUWewRRuVmwY"
      },
      "execution_count": null,
      "outputs": []
    }
  ]
}
